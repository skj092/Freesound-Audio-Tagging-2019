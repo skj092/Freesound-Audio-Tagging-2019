{
 "cells": [
  {
   "cell_type": "code",
   "execution_count": 1,
   "id": "44852813",
   "metadata": {
    "execution": {
     "iopub.execute_input": "2025-01-09T07:35:24.061256Z",
     "iopub.status.busy": "2025-01-09T07:35:24.060981Z",
     "iopub.status.idle": "2025-01-09T07:35:31.580680Z",
     "shell.execute_reply": "2025-01-09T07:35:31.579967Z"
    },
    "papermill": {
     "duration": 7.525605,
     "end_time": "2025-01-09T07:35:31.582212",
     "exception": false,
     "start_time": "2025-01-09T07:35:24.056607",
     "status": "completed"
    },
    "tags": []
   },
   "outputs": [],
   "source": [
    "from pathlib import Path\n",
    "import pickle\n",
    "import pandas as pd\n",
    "import numpy as np\n",
    "from torchvision import transforms\n",
    "from sklearn.preprocessing import LabelEncoder\n",
    "from torch.utils.data import DataLoader, Subset, Dataset\n",
    "from torch import nn, optim\n",
    "import torch\n",
    "from sklearn.metrics import accuracy_score\n",
    "from fastprogress.fastprogress import master_bar, progress_bar\n",
    "import os\n",
    "from tqdm import tqdm\n",
    "from torch.nn.functional import softmax\n",
    "from zipfile import ZipFile \n",
    "from PIL import Image"
   ]
  },
  {
   "cell_type": "markdown",
   "id": "f2c808b9",
   "metadata": {
    "papermill": {
     "duration": 0.002884,
     "end_time": "2025-01-09T07:35:31.588492",
     "exception": false,
     "start_time": "2025-01-09T07:35:31.585608",
     "status": "completed"
    },
    "tags": []
   },
   "source": [
    "# Configs "
   ]
  },
  {
   "cell_type": "code",
   "execution_count": 2,
   "id": "50cd4722",
   "metadata": {
    "execution": {
     "iopub.execute_input": "2025-01-09T07:35:31.595160Z",
     "iopub.status.busy": "2025-01-09T07:35:31.594761Z",
     "iopub.status.idle": "2025-01-09T07:35:31.680187Z",
     "shell.execute_reply": "2025-01-09T07:35:31.679409Z"
    },
    "papermill": {
     "duration": 0.090243,
     "end_time": "2025-01-09T07:35:31.681574",
     "exception": false,
     "start_time": "2025-01-09T07:35:31.591331",
     "status": "completed"
    },
    "tags": []
   },
   "outputs": [],
   "source": [
    "batch_size = 8\n",
    "lr = 1e-3\n",
    "tmax = 10\n",
    "eta_min = 1e-5\n",
    "num_epochs = 10\n",
    "num_classes = 80\n",
    "debug = False\n",
    "device = torch.device(\"cuda\" if torch.cuda.is_available() else \"cpu\")"
   ]
  },
  {
   "cell_type": "markdown",
   "id": "958c38a4",
   "metadata": {
    "papermill": {
     "duration": 0.003014,
     "end_time": "2025-01-09T07:35:31.688060",
     "exception": false,
     "start_time": "2025-01-09T07:35:31.685046",
     "status": "completed"
    },
    "tags": []
   },
   "source": [
    "# Dataset Class"
   ]
  },
  {
   "cell_type": "code",
   "execution_count": 3,
   "id": "0d33f19b",
   "metadata": {
    "execution": {
     "iopub.execute_input": "2025-01-09T07:35:31.695320Z",
     "iopub.status.busy": "2025-01-09T07:35:31.695030Z",
     "iopub.status.idle": "2025-01-09T07:35:31.703291Z",
     "shell.execute_reply": "2025-01-09T07:35:31.702494Z"
    },
    "papermill": {
     "duration": 0.013442,
     "end_time": "2025-01-09T07:35:31.704636",
     "exception": false,
     "start_time": "2025-01-09T07:35:31.691194",
     "status": "completed"
    },
    "tags": []
   },
   "outputs": [],
   "source": [
    "trainsforms_dict = {\n",
    "    'train': transforms.Compose([\n",
    "        transforms.RandomHorizontalFlip(0.5),\n",
    "        transforms.ToTensor(),\n",
    "    ]),\n",
    "    'test': transforms.Compose([\n",
    "        transforms.RandomHorizontalFlip(0.5),\n",
    "        transforms.ToTensor(),\n",
    "    ])\n",
    "}\n",
    "\n",
    "\n",
    "class FreeShoundTrainDataset(Dataset):\n",
    "    def __init__(self, mels, labels, transform, time_mask=0.1, freq_mask=0.1, spec_aug=True):\n",
    "        self.mels = mels  # (num_samples, 128, var, 3)\n",
    "        self.labels = labels\n",
    "        self.tfms = transform\n",
    "        self.time_mask = time_mask\n",
    "        self.freq_mask = freq_mask\n",
    "        self.spec_aug = spec_aug\n",
    "\n",
    "    def __len__(self):\n",
    "        return len(self.mels)\n",
    "\n",
    "    def __getitem__(self, idx):\n",
    "        mel = self.mels[idx]  # (128, 451, 3)\n",
    "        base_dim, time_dim, _ = mel.shape\n",
    "        crop = np.random.randint(0, time_dim-base_dim)  # (97)\n",
    "        image = mel[:, crop: crop + base_dim, ...]  # (128, 128, 3)\n",
    "\n",
    "        if self.spec_aug:\n",
    "            freq_mask_begin = int(np.random.uniform(\n",
    "                0, 1 - self.freq_mask) * base_dim)\n",
    "            image[freq_mask_begin:freq_mask_begin +\n",
    "                  int(self.freq_mask * base_dim), ...] = 0\n",
    "            time_mask_begin = int(np.random.uniform(\n",
    "                0, 1 - self.time_mask) * base_dim)\n",
    "            image[:, time_mask_begin:time_mask_begin +\n",
    "                  int(self.time_mask * base_dim), ...] = 0\n",
    "\n",
    "        image = Image.fromarray(image[..., 0], mode='L')  # (128, 128)\n",
    "        image = self.tfms(image).div_(255)  # (1, 128, 128)\n",
    "        if self.labels is not None:\n",
    "            label = np.asarray(self.labels)[idx]\n",
    "            label = torch.from_numpy(label).float()\n",
    "        return (image, label) if self.labels is not None else image"
   ]
  },
  {
   "cell_type": "markdown",
   "id": "f816613c",
   "metadata": {
    "papermill": {
     "duration": 0.002544,
     "end_time": "2025-01-09T07:35:31.709978",
     "exception": false,
     "start_time": "2025-01-09T07:35:31.707434",
     "status": "completed"
    },
    "tags": []
   },
   "source": [
    "# Model "
   ]
  },
  {
   "cell_type": "code",
   "execution_count": 4,
   "id": "091f316d",
   "metadata": {
    "execution": {
     "iopub.execute_input": "2025-01-09T07:35:31.715919Z",
     "iopub.status.busy": "2025-01-09T07:35:31.715679Z",
     "iopub.status.idle": "2025-01-09T07:35:31.720147Z",
     "shell.execute_reply": "2025-01-09T07:35:31.719502Z"
    },
    "papermill": {
     "duration": 0.008802,
     "end_time": "2025-01-09T07:35:31.721360",
     "exception": false,
     "start_time": "2025-01-09T07:35:31.712558",
     "status": "completed"
    },
    "tags": []
   },
   "outputs": [],
   "source": [
    "import torch.nn as nn\n",
    "import torchvision.models as models\n",
    "\n",
    "\n",
    "class Model(nn.Module):\n",
    "    def __init__(self, num_classes, pretrained=False):\n",
    "        super().__init__()\n",
    "\n",
    "        # Load the model with pretrained weights if specified\n",
    "        self.model = models.resnet18(weights=None)\n",
    "\n",
    "        # Modify the first convolution layer for grayscale input (1 channel)\n",
    "        self.model.conv1 = nn.Conv2d(\n",
    "            1, 64, kernel_size=7, stride=2, padding=3, bias=False\n",
    "        )\n",
    "\n",
    "        # Get the input features of the final fully connected layer\n",
    "        self.in_features = self.model.fc.in_features\n",
    "\n",
    "        # Replace the final fully connected layer\n",
    "        self.model.fc = nn.Linear(self.in_features, num_classes)\n",
    "\n",
    "    def forward(self, x):\n",
    "        return self.model(x)"
   ]
  },
  {
   "cell_type": "markdown",
   "id": "a8fd9694",
   "metadata": {
    "papermill": {
     "duration": 0.002501,
     "end_time": "2025-01-09T07:35:31.726634",
     "exception": false,
     "start_time": "2025-01-09T07:35:31.724133",
     "status": "completed"
    },
    "tags": []
   },
   "source": [
    "# Utilities "
   ]
  },
  {
   "cell_type": "code",
   "execution_count": 5,
   "id": "d048bcce",
   "metadata": {
    "execution": {
     "iopub.execute_input": "2025-01-09T07:35:31.732628Z",
     "iopub.status.busy": "2025-01-09T07:35:31.732430Z",
     "iopub.status.idle": "2025-01-09T07:35:31.738106Z",
     "shell.execute_reply": "2025-01-09T07:35:31.737508Z"
    },
    "papermill": {
     "duration": 0.010036,
     "end_time": "2025-01-09T07:35:31.739336",
     "exception": false,
     "start_time": "2025-01-09T07:35:31.729300",
     "status": "completed"
    },
    "tags": []
   },
   "outputs": [],
   "source": [
    "def transform_labels(df):\n",
    "    df[\"labels\"] = df[\"labels\"].str.split(\",\")\n",
    "    unique_labels = set()\n",
    "    for labels in df[\"labels\"]:\n",
    "        unique_labels.update(labels)\n",
    "    unique_labels = sorted(list(unique_labels))\n",
    "\n",
    "    for label in unique_labels:\n",
    "        df[label] = df[\"labels\"].apply(lambda x: 1 if label in x else 0)\n",
    "\n",
    "    df = df.drop(\"labels\", axis=1)\n",
    "\n",
    "    return df\n",
    "\n",
    "\n",
    "def make_prediction(model, test_dl):\n",
    "    model.eval()\n",
    "    preds = []\n",
    "    for xb in tqdm(test_dl):\n",
    "        with torch.no_grad():\n",
    "            logits = model(xb.to(device))\n",
    "            pred = softmax(logits, dim=1)\n",
    "        preds.extend(pred.cpu().numpy())\n",
    "    return preds\n",
    "\n",
    "\n",
    "def create_unique_labels(all_labels):\n",
    "    label_dict = {}\n",
    "    all_labels_set = []\n",
    "    first_labels_set = []\n",
    "    for labs in all_labels:\n",
    "        lab = labs.split(\",\")\n",
    "        for l in lab:\n",
    "            if l in label_dict:\n",
    "                label_dict[l] = label_dict[l] + 1\n",
    "            else:\n",
    "                label_dict[l] = 0\n",
    "\n",
    "        all_labels_set.append(set(lab))\n",
    "        first_labels_set.append(lab[0])\n",
    "    classes = list(label_dict.keys())\n",
    "\n",
    "    return label_dict, classes, all_labels_set, first_labels_set"
   ]
  },
  {
   "cell_type": "code",
   "execution_count": 6,
   "id": "c324f4fa",
   "metadata": {
    "execution": {
     "iopub.execute_input": "2025-01-09T07:35:31.745341Z",
     "iopub.status.busy": "2025-01-09T07:35:31.745143Z",
     "iopub.status.idle": "2025-01-09T07:35:31.748356Z",
     "shell.execute_reply": "2025-01-09T07:35:31.747764Z"
    },
    "papermill": {
     "duration": 0.007539,
     "end_time": "2025-01-09T07:35:31.749572",
     "exception": false,
     "start_time": "2025-01-09T07:35:31.742033",
     "status": "completed"
    },
    "tags": []
   },
   "outputs": [],
   "source": [
    "path = Path(\"/kaggle/input/freesound-audio-tagging-2019\")\n",
    "data_dir = Path('data')\n",
    "(data_dir/'test_files').mkdir(parents=True, exist_ok=True)"
   ]
  },
  {
   "cell_type": "code",
   "execution_count": 7,
   "id": "3fd1e4e9",
   "metadata": {
    "execution": {
     "iopub.execute_input": "2025-01-09T07:35:31.755640Z",
     "iopub.status.busy": "2025-01-09T07:35:31.755445Z",
     "iopub.status.idle": "2025-01-09T07:36:05.024289Z",
     "shell.execute_reply": "2025-01-09T07:36:05.023344Z"
    },
    "papermill": {
     "duration": 33.276732,
     "end_time": "2025-01-09T07:36:05.029111",
     "exception": false,
     "start_time": "2025-01-09T07:35:31.752379",
     "status": "completed"
    },
    "tags": []
   },
   "outputs": [
    {
     "name": "stdout",
     "output_type": "stream",
     "text": [
      "CPU times: user 20.5 s, sys: 3.54 s, total: 24 s\n",
      "Wall time: 33.3 s\n"
     ]
    }
   ],
   "source": [
    "%%time\n",
    "# loading the temp.zip and creating a zip object \n",
    "with ZipFile(path/'test.zip', 'r') as zObject: \n",
    "    zObject.extractall(path=data_dir/'test_files') \n",
    "zObject.close() "
   ]
  },
  {
   "cell_type": "code",
   "execution_count": 8,
   "id": "dc134699",
   "metadata": {
    "_cell_guid": "b1076dfc-b9ad-4769-8c92-a6c4dae69d19",
    "_uuid": "8f2839f25d086af736a60e9eeb907d3b93b6e0e5",
    "execution": {
     "iopub.execute_input": "2025-01-09T07:36:05.036603Z",
     "iopub.status.busy": "2025-01-09T07:36:05.036340Z",
     "iopub.status.idle": "2025-01-09T07:36:15.519061Z",
     "shell.execute_reply": "2025-01-09T07:36:15.518123Z"
    },
    "papermill": {
     "duration": 10.488283,
     "end_time": "2025-01-09T07:36:15.520700",
     "exception": false,
     "start_time": "2025-01-09T07:36:05.032417",
     "status": "completed"
    },
    "tags": []
   },
   "outputs": [
    {
     "name": "stdout",
     "output_type": "stream",
     "text": [
      "=======Data Loader Prepared=========\n",
      "=======Model Loaded=========\n"
     ]
    },
    {
     "name": "stderr",
     "output_type": "stream",
     "text": [
      "100%|██████████| 421/421 [00:04<00:00, 103.71it/s]\n"
     ]
    }
   ],
   "source": [
    "# load input data\n",
    "path = Path(\"/kaggle/input/freesound-audio-tagging-2019\")\n",
    "train_df = pd.read_csv(path / \"train_curated.csv\")\n",
    "train_df = transform_labels(train_df)\n",
    "y_train = train_df.iloc[:, 1:]\n",
    "\n",
    "test_images = sorted(os.listdir(\"data/test_files\"))\n",
    "sub = pd.read_csv(path / \"sample_submission.csv\")\n",
    "\n",
    "# load preprocessed audios and corresponding labels\n",
    "path = Path('/kaggle/input/data-preprocessing/data')\n",
    "processed_test = pickle.load(\n",
    "    open(path / \"mels_test.pkl\", \"rb\")\n",
    ")  # (4970, 128, var, 3)\n",
    "y_train = train_df.iloc[:, 1:]\n",
    "\n",
    "\n",
    "test_ds = FreeShoundTrainDataset(processed_test, None, trainsforms_dict[\"train\"])\n",
    "if debug:\n",
    "    test_ds = Subset(test_ds, range(100))\n",
    "test_dl = DataLoader(test_ds, batch_size=batch_size, shuffle=False)\n",
    "print(\"=======Data Loader Prepared=========\")\n",
    "\n",
    "# load model\n",
    "model = Model(num_classes=80)\n",
    "model.load_state_dict(torch.load(\"/kaggle/input/sound-classification-training/model.pt\",weights_only=True, map_location=device))\n",
    "model.to(device)\n",
    "print(\"=======Model Loaded=========\")\n",
    "\n",
    "preds = make_prediction(model, test_dl)\n",
    "sub = pd.DataFrame(preds, columns=y_train.columns)\n",
    "if debug:\n",
    "    test_fns = sorted(os.listdir(\"data/test_files\"))[:100]\n",
    "else:\n",
    "    test_fns = sorted(os.listdir(\"data/test_files\"))\n",
    "sub[\"fname\"] = test_fns\n",
    "sub = sub[[\"fname\"] + [col for col in sub.columns if col != \"fname\"]]\n",
    "sub.to_csv('submission.csv', index=False)"
   ]
  },
  {
   "cell_type": "code",
   "execution_count": 9,
   "id": "4dac720f",
   "metadata": {
    "execution": {
     "iopub.execute_input": "2025-01-09T07:36:15.530640Z",
     "iopub.status.busy": "2025-01-09T07:36:15.530387Z",
     "iopub.status.idle": "2025-01-09T07:36:16.381502Z",
     "shell.execute_reply": "2025-01-09T07:36:16.380281Z"
    },
    "papermill": {
     "duration": 0.857947,
     "end_time": "2025-01-09T07:36:16.383406",
     "exception": false,
     "start_time": "2025-01-09T07:36:15.525459",
     "status": "completed"
    },
    "tags": []
   },
   "outputs": [],
   "source": [
    "!rm -rf data/"
   ]
  },
  {
   "cell_type": "code",
   "execution_count": 10,
   "id": "0fa9f5c3",
   "metadata": {
    "execution": {
     "iopub.execute_input": "2025-01-09T07:36:16.393594Z",
     "iopub.status.busy": "2025-01-09T07:36:16.393341Z",
     "iopub.status.idle": "2025-01-09T07:36:16.399788Z",
     "shell.execute_reply": "2025-01-09T07:36:16.398809Z"
    },
    "papermill": {
     "duration": 0.01312,
     "end_time": "2025-01-09T07:36:16.401197",
     "exception": false,
     "start_time": "2025-01-09T07:36:16.388077",
     "status": "completed"
    },
    "tags": []
   },
   "outputs": [
    {
     "data": {
      "text/plain": [
       "(3361, 81)"
      ]
     },
     "execution_count": 10,
     "metadata": {},
     "output_type": "execute_result"
    }
   ],
   "source": [
    "sub.shape"
   ]
  },
  {
   "cell_type": "code",
   "execution_count": 11,
   "id": "84c75b50",
   "metadata": {
    "execution": {
     "iopub.execute_input": "2025-01-09T07:36:16.410664Z",
     "iopub.status.busy": "2025-01-09T07:36:16.410454Z",
     "iopub.status.idle": "2025-01-09T07:36:16.434594Z",
     "shell.execute_reply": "2025-01-09T07:36:16.433927Z"
    },
    "papermill": {
     "duration": 0.030351,
     "end_time": "2025-01-09T07:36:16.435951",
     "exception": false,
     "start_time": "2025-01-09T07:36:16.405600",
     "status": "completed"
    },
    "tags": []
   },
   "outputs": [
    {
     "data": {
      "text/html": [
       "<div>\n",
       "<style scoped>\n",
       "    .dataframe tbody tr th:only-of-type {\n",
       "        vertical-align: middle;\n",
       "    }\n",
       "\n",
       "    .dataframe tbody tr th {\n",
       "        vertical-align: top;\n",
       "    }\n",
       "\n",
       "    .dataframe thead th {\n",
       "        text-align: right;\n",
       "    }\n",
       "</style>\n",
       "<table border=\"1\" class=\"dataframe\">\n",
       "  <thead>\n",
       "    <tr style=\"text-align: right;\">\n",
       "      <th></th>\n",
       "      <th>fname</th>\n",
       "      <th>Accelerating_and_revving_and_vroom</th>\n",
       "      <th>Accordion</th>\n",
       "      <th>Acoustic_guitar</th>\n",
       "      <th>Applause</th>\n",
       "      <th>Bark</th>\n",
       "      <th>Bass_drum</th>\n",
       "      <th>Bass_guitar</th>\n",
       "      <th>Bathtub_(filling_or_washing)</th>\n",
       "      <th>Bicycle_bell</th>\n",
       "      <th>...</th>\n",
       "      <th>Toilet_flush</th>\n",
       "      <th>Traffic_noise_and_roadway_noise</th>\n",
       "      <th>Trickle_and_dribble</th>\n",
       "      <th>Walk_and_footsteps</th>\n",
       "      <th>Water_tap_and_faucet</th>\n",
       "      <th>Waves_and_surf</th>\n",
       "      <th>Whispering</th>\n",
       "      <th>Writing</th>\n",
       "      <th>Yell</th>\n",
       "      <th>Zipper_(clothing)</th>\n",
       "    </tr>\n",
       "  </thead>\n",
       "  <tbody>\n",
       "    <tr>\n",
       "      <th>0</th>\n",
       "      <td>4260ebea.wav</td>\n",
       "      <td>0.000496</td>\n",
       "      <td>6.441688e-05</td>\n",
       "      <td>2.970595e-04</td>\n",
       "      <td>0.000742</td>\n",
       "      <td>0.000221</td>\n",
       "      <td>8.809141e-03</td>\n",
       "      <td>6.113598e-04</td>\n",
       "      <td>0.037526</td>\n",
       "      <td>0.038531</td>\n",
       "      <td>...</td>\n",
       "      <td>0.001020</td>\n",
       "      <td>0.000885</td>\n",
       "      <td>0.011949</td>\n",
       "      <td>0.006969</td>\n",
       "      <td>0.021221</td>\n",
       "      <td>0.001245</td>\n",
       "      <td>0.017028</td>\n",
       "      <td>0.016149</td>\n",
       "      <td>0.000395</td>\n",
       "      <td>0.005170</td>\n",
       "    </tr>\n",
       "    <tr>\n",
       "      <th>1</th>\n",
       "      <td>426eb1e0.wav</td>\n",
       "      <td>0.000060</td>\n",
       "      <td>6.506274e-07</td>\n",
       "      <td>8.909593e-07</td>\n",
       "      <td>0.646719</td>\n",
       "      <td>0.000036</td>\n",
       "      <td>2.223978e-06</td>\n",
       "      <td>6.902122e-07</td>\n",
       "      <td>0.000799</td>\n",
       "      <td>0.000002</td>\n",
       "      <td>...</td>\n",
       "      <td>0.000821</td>\n",
       "      <td>0.000743</td>\n",
       "      <td>0.000319</td>\n",
       "      <td>0.000101</td>\n",
       "      <td>0.000035</td>\n",
       "      <td>0.001049</td>\n",
       "      <td>0.000248</td>\n",
       "      <td>0.000008</td>\n",
       "      <td>0.000099</td>\n",
       "      <td>0.000128</td>\n",
       "    </tr>\n",
       "    <tr>\n",
       "      <th>2</th>\n",
       "      <td>428d70bb.wav</td>\n",
       "      <td>0.003783</td>\n",
       "      <td>5.519008e-03</td>\n",
       "      <td>4.867644e-04</td>\n",
       "      <td>0.002592</td>\n",
       "      <td>0.000930</td>\n",
       "      <td>9.883742e-05</td>\n",
       "      <td>4.452369e-05</td>\n",
       "      <td>0.002924</td>\n",
       "      <td>0.004953</td>\n",
       "      <td>...</td>\n",
       "      <td>0.002445</td>\n",
       "      <td>0.027090</td>\n",
       "      <td>0.002303</td>\n",
       "      <td>0.001165</td>\n",
       "      <td>0.000831</td>\n",
       "      <td>0.002758</td>\n",
       "      <td>0.011902</td>\n",
       "      <td>0.000948</td>\n",
       "      <td>0.004483</td>\n",
       "      <td>0.012611</td>\n",
       "    </tr>\n",
       "    <tr>\n",
       "      <th>3</th>\n",
       "      <td>4292b1c9.wav</td>\n",
       "      <td>0.000004</td>\n",
       "      <td>4.029113e-06</td>\n",
       "      <td>1.252604e-06</td>\n",
       "      <td>0.000026</td>\n",
       "      <td>0.000012</td>\n",
       "      <td>4.401098e-07</td>\n",
       "      <td>5.743286e-08</td>\n",
       "      <td>0.000062</td>\n",
       "      <td>0.000008</td>\n",
       "      <td>...</td>\n",
       "      <td>0.000002</td>\n",
       "      <td>0.000033</td>\n",
       "      <td>0.000098</td>\n",
       "      <td>0.000040</td>\n",
       "      <td>0.000002</td>\n",
       "      <td>0.000048</td>\n",
       "      <td>0.005773</td>\n",
       "      <td>0.000124</td>\n",
       "      <td>0.010912</td>\n",
       "      <td>0.001816</td>\n",
       "    </tr>\n",
       "    <tr>\n",
       "      <th>4</th>\n",
       "      <td>429c5071.wav</td>\n",
       "      <td>0.020863</td>\n",
       "      <td>1.449897e-04</td>\n",
       "      <td>5.794917e-04</td>\n",
       "      <td>0.001187</td>\n",
       "      <td>0.009021</td>\n",
       "      <td>2.688271e-03</td>\n",
       "      <td>6.961418e-04</td>\n",
       "      <td>0.001832</td>\n",
       "      <td>0.000853</td>\n",
       "      <td>...</td>\n",
       "      <td>0.006168</td>\n",
       "      <td>0.001560</td>\n",
       "      <td>0.000401</td>\n",
       "      <td>0.140091</td>\n",
       "      <td>0.001587</td>\n",
       "      <td>0.007004</td>\n",
       "      <td>0.001136</td>\n",
       "      <td>0.017590</td>\n",
       "      <td>0.000271</td>\n",
       "      <td>0.122457</td>\n",
       "    </tr>\n",
       "  </tbody>\n",
       "</table>\n",
       "<p>5 rows × 81 columns</p>\n",
       "</div>"
      ],
      "text/plain": [
       "          fname  Accelerating_and_revving_and_vroom     Accordion  \\\n",
       "0  4260ebea.wav                            0.000496  6.441688e-05   \n",
       "1  426eb1e0.wav                            0.000060  6.506274e-07   \n",
       "2  428d70bb.wav                            0.003783  5.519008e-03   \n",
       "3  4292b1c9.wav                            0.000004  4.029113e-06   \n",
       "4  429c5071.wav                            0.020863  1.449897e-04   \n",
       "\n",
       "   Acoustic_guitar  Applause      Bark     Bass_drum   Bass_guitar  \\\n",
       "0     2.970595e-04  0.000742  0.000221  8.809141e-03  6.113598e-04   \n",
       "1     8.909593e-07  0.646719  0.000036  2.223978e-06  6.902122e-07   \n",
       "2     4.867644e-04  0.002592  0.000930  9.883742e-05  4.452369e-05   \n",
       "3     1.252604e-06  0.000026  0.000012  4.401098e-07  5.743286e-08   \n",
       "4     5.794917e-04  0.001187  0.009021  2.688271e-03  6.961418e-04   \n",
       "\n",
       "   Bathtub_(filling_or_washing)  Bicycle_bell  ...  Toilet_flush  \\\n",
       "0                      0.037526      0.038531  ...      0.001020   \n",
       "1                      0.000799      0.000002  ...      0.000821   \n",
       "2                      0.002924      0.004953  ...      0.002445   \n",
       "3                      0.000062      0.000008  ...      0.000002   \n",
       "4                      0.001832      0.000853  ...      0.006168   \n",
       "\n",
       "   Traffic_noise_and_roadway_noise  Trickle_and_dribble  Walk_and_footsteps  \\\n",
       "0                         0.000885             0.011949            0.006969   \n",
       "1                         0.000743             0.000319            0.000101   \n",
       "2                         0.027090             0.002303            0.001165   \n",
       "3                         0.000033             0.000098            0.000040   \n",
       "4                         0.001560             0.000401            0.140091   \n",
       "\n",
       "   Water_tap_and_faucet  Waves_and_surf  Whispering   Writing      Yell  \\\n",
       "0              0.021221        0.001245    0.017028  0.016149  0.000395   \n",
       "1              0.000035        0.001049    0.000248  0.000008  0.000099   \n",
       "2              0.000831        0.002758    0.011902  0.000948  0.004483   \n",
       "3              0.000002        0.000048    0.005773  0.000124  0.010912   \n",
       "4              0.001587        0.007004    0.001136  0.017590  0.000271   \n",
       "\n",
       "   Zipper_(clothing)  \n",
       "0           0.005170  \n",
       "1           0.000128  \n",
       "2           0.012611  \n",
       "3           0.001816  \n",
       "4           0.122457  \n",
       "\n",
       "[5 rows x 81 columns]"
      ]
     },
     "execution_count": 11,
     "metadata": {},
     "output_type": "execute_result"
    }
   ],
   "source": [
    "sub.head()"
   ]
  }
 ],
 "metadata": {
  "kaggle": {
   "accelerator": "nvidiaTeslaT4",
   "dataSources": [
    {
     "databundleVersionId": 503808,
     "sourceId": 10700,
     "sourceType": "competition"
    },
    {
     "sourceId": 216756525,
     "sourceType": "kernelVersion"
    },
    {
     "sourceId": 216760135,
     "sourceType": "kernelVersion"
    }
   ],
   "dockerImageVersionId": 30823,
   "isGpuEnabled": true,
   "isInternetEnabled": false,
   "language": "python",
   "sourceType": "notebook"
  },
  "kernelspec": {
   "display_name": "Python 3",
   "language": "python",
   "name": "python3"
  },
  "language_info": {
   "codemirror_mode": {
    "name": "ipython",
    "version": 3
   },
   "file_extension": ".py",
   "mimetype": "text/x-python",
   "name": "python",
   "nbconvert_exporter": "python",
   "pygments_lexer": "ipython3",
   "version": "3.10.12"
  },
  "papermill": {
   "default_parameters": {},
   "duration": 56.672135,
   "end_time": "2025-01-09T07:36:18.261808",
   "environment_variables": {},
   "exception": null,
   "input_path": "__notebook__.ipynb",
   "output_path": "__notebook__.ipynb",
   "parameters": {},
   "start_time": "2025-01-09T07:35:21.589673",
   "version": "2.6.0"
  }
 },
 "nbformat": 4,
 "nbformat_minor": 5
}
