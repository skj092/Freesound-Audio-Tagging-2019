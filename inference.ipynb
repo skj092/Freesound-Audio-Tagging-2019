{
 "cells": [
  {
   "cell_type": "code",
   "execution_count": 1,
   "id": "6f6f71c1",
   "metadata": {
    "execution": {
     "iopub.execute_input": "2025-01-09T07:30:29.468091Z",
     "iopub.status.busy": "2025-01-09T07:30:29.467791Z",
     "iopub.status.idle": "2025-01-09T07:30:35.372271Z",
     "shell.execute_reply": "2025-01-09T07:30:35.371569Z"
    },
    "papermill": {
     "duration": 5.910143,
     "end_time": "2025-01-09T07:30:35.373769",
     "exception": false,
     "start_time": "2025-01-09T07:30:29.463626",
     "status": "completed"
    },
    "tags": []
   },
   "outputs": [],
   "source": [
    "from pathlib import Path\n",
    "import pickle\n",
    "import pandas as pd\n",
    "import numpy as np\n",
    "from torchvision import transforms\n",
    "from sklearn.preprocessing import LabelEncoder\n",
    "from torch.utils.data import DataLoader, Subset, Dataset\n",
    "from torch import nn, optim\n",
    "import torch\n",
    "from sklearn.metrics import accuracy_score\n",
    "from fastprogress.fastprogress import master_bar, progress_bar\n",
    "import os\n",
    "from tqdm import tqdm\n",
    "from torch.nn.functional import softmax\n",
    "from zipfile import ZipFile \n",
    "from PIL import Image"
   ]
  },
  {
   "cell_type": "markdown",
   "id": "00a6522d",
   "metadata": {
    "papermill": {
     "duration": 0.002611,
     "end_time": "2025-01-09T07:30:35.379501",
     "exception": false,
     "start_time": "2025-01-09T07:30:35.376890",
     "status": "completed"
    },
    "tags": []
   },
   "source": [
    "# Configs "
   ]
  },
  {
   "cell_type": "code",
   "execution_count": 2,
   "id": "336b6f92",
   "metadata": {
    "execution": {
     "iopub.execute_input": "2025-01-09T07:30:35.385962Z",
     "iopub.status.busy": "2025-01-09T07:30:35.385573Z",
     "iopub.status.idle": "2025-01-09T07:30:35.457998Z",
     "shell.execute_reply": "2025-01-09T07:30:35.457344Z"
    },
    "papermill": {
     "duration": 0.076914,
     "end_time": "2025-01-09T07:30:35.459220",
     "exception": false,
     "start_time": "2025-01-09T07:30:35.382306",
     "status": "completed"
    },
    "tags": []
   },
   "outputs": [],
   "source": [
    "batch_size = 8\n",
    "lr = 1e-3\n",
    "tmax = 10\n",
    "eta_min = 1e-5\n",
    "num_epochs = 10\n",
    "num_classes = 80\n",
    "debug = False\n",
    "device = torch.device(\"cuda\" if torch.cuda.is_available() else \"cpu\")"
   ]
  },
  {
   "cell_type": "markdown",
   "id": "41e77b46",
   "metadata": {
    "papermill": {
     "duration": 0.002463,
     "end_time": "2025-01-09T07:30:35.464516",
     "exception": false,
     "start_time": "2025-01-09T07:30:35.462053",
     "status": "completed"
    },
    "tags": []
   },
   "source": [
    "# Dataset Class"
   ]
  },
  {
   "cell_type": "code",
   "execution_count": 3,
   "id": "6da31f59",
   "metadata": {
    "execution": {
     "iopub.execute_input": "2025-01-09T07:30:35.470640Z",
     "iopub.status.busy": "2025-01-09T07:30:35.470387Z",
     "iopub.status.idle": "2025-01-09T07:30:35.478208Z",
     "shell.execute_reply": "2025-01-09T07:30:35.477416Z"
    },
    "papermill": {
     "duration": 0.012188,
     "end_time": "2025-01-09T07:30:35.479331",
     "exception": false,
     "start_time": "2025-01-09T07:30:35.467143",
     "status": "completed"
    },
    "tags": []
   },
   "outputs": [],
   "source": [
    "trainsforms_dict = {\n",
    "    'train': transforms.Compose([\n",
    "        transforms.RandomHorizontalFlip(0.5),\n",
    "        transforms.ToTensor(),\n",
    "    ]),\n",
    "    'test': transforms.Compose([\n",
    "        transforms.RandomHorizontalFlip(0.5),\n",
    "        transforms.ToTensor(),\n",
    "    ])\n",
    "}\n",
    "\n",
    "\n",
    "class FreeShoundTrainDataset(Dataset):\n",
    "    def __init__(self, mels, labels, transform, time_mask=0.1, freq_mask=0.1, spec_aug=True):\n",
    "        self.mels = mels  # (num_samples, 128, var, 3)\n",
    "        self.labels = labels\n",
    "        self.tfms = transform\n",
    "        self.time_mask = time_mask\n",
    "        self.freq_mask = freq_mask\n",
    "        self.spec_aug = spec_aug\n",
    "\n",
    "    def __len__(self):\n",
    "        return len(self.mels)\n",
    "\n",
    "    def __getitem__(self, idx):\n",
    "        mel = self.mels[idx]  # (128, 451, 3)\n",
    "        base_dim, time_dim, _ = mel.shape\n",
    "        crop = np.random.randint(0, time_dim-base_dim)  # (97)\n",
    "        image = mel[:, crop: crop + base_dim, ...]  # (128, 128, 3)\n",
    "\n",
    "        if self.spec_aug:\n",
    "            freq_mask_begin = int(np.random.uniform(\n",
    "                0, 1 - self.freq_mask) * base_dim)\n",
    "            image[freq_mask_begin:freq_mask_begin +\n",
    "                  int(self.freq_mask * base_dim), ...] = 0\n",
    "            time_mask_begin = int(np.random.uniform(\n",
    "                0, 1 - self.time_mask) * base_dim)\n",
    "            image[:, time_mask_begin:time_mask_begin +\n",
    "                  int(self.time_mask * base_dim), ...] = 0\n",
    "\n",
    "        image = Image.fromarray(image[..., 0], mode='L')  # (128, 128)\n",
    "        image = self.tfms(image).div_(255)  # (1, 128, 128)\n",
    "        if self.labels is not None:\n",
    "            label = np.asarray(self.labels)[idx]\n",
    "            label = torch.from_numpy(label).float()\n",
    "        return (image, label) if self.labels is not None else image"
   ]
  },
  {
   "cell_type": "markdown",
   "id": "599a13d5",
   "metadata": {
    "papermill": {
     "duration": 0.00243,
     "end_time": "2025-01-09T07:30:35.484382",
     "exception": false,
     "start_time": "2025-01-09T07:30:35.481952",
     "status": "completed"
    },
    "tags": []
   },
   "source": [
    "# Model "
   ]
  },
  {
   "cell_type": "code",
   "execution_count": 4,
   "id": "70ff3d0f",
   "metadata": {
    "execution": {
     "iopub.execute_input": "2025-01-09T07:30:35.490173Z",
     "iopub.status.busy": "2025-01-09T07:30:35.489946Z",
     "iopub.status.idle": "2025-01-09T07:30:35.494494Z",
     "shell.execute_reply": "2025-01-09T07:30:35.493722Z"
    },
    "papermill": {
     "duration": 0.008895,
     "end_time": "2025-01-09T07:30:35.495850",
     "exception": false,
     "start_time": "2025-01-09T07:30:35.486955",
     "status": "completed"
    },
    "tags": []
   },
   "outputs": [],
   "source": [
    "import torch.nn as nn\n",
    "import torchvision.models as models\n",
    "\n",
    "\n",
    "class Model(nn.Module):\n",
    "    def __init__(self, num_classes, pretrained=False):\n",
    "        super().__init__()\n",
    "\n",
    "        # Load the model with pretrained weights if specified\n",
    "        self.model = models.resnet18(weights=None)\n",
    "\n",
    "        # Modify the first convolution layer for grayscale input (1 channel)\n",
    "        self.model.conv1 = nn.Conv2d(\n",
    "            1, 64, kernel_size=7, stride=2, padding=3, bias=False\n",
    "        )\n",
    "\n",
    "        # Get the input features of the final fully connected layer\n",
    "        self.in_features = self.model.fc.in_features\n",
    "\n",
    "        # Replace the final fully connected layer\n",
    "        self.model.fc = nn.Linear(self.in_features, num_classes)\n",
    "\n",
    "    def forward(self, x):\n",
    "        return self.model(x)"
   ]
  },
  {
   "cell_type": "markdown",
   "id": "bc702509",
   "metadata": {
    "papermill": {
     "duration": 0.002383,
     "end_time": "2025-01-09T07:30:35.500863",
     "exception": false,
     "start_time": "2025-01-09T07:30:35.498480",
     "status": "completed"
    },
    "tags": []
   },
   "source": [
    "# Utilities "
   ]
  },
  {
   "cell_type": "code",
   "execution_count": 5,
   "id": "70c20d90",
   "metadata": {
    "execution": {
     "iopub.execute_input": "2025-01-09T07:30:35.506642Z",
     "iopub.status.busy": "2025-01-09T07:30:35.506408Z",
     "iopub.status.idle": "2025-01-09T07:30:35.512379Z",
     "shell.execute_reply": "2025-01-09T07:30:35.511782Z"
    },
    "papermill": {
     "duration": 0.010148,
     "end_time": "2025-01-09T07:30:35.513505",
     "exception": false,
     "start_time": "2025-01-09T07:30:35.503357",
     "status": "completed"
    },
    "tags": []
   },
   "outputs": [],
   "source": [
    "def transform_labels(df):\n",
    "    df[\"labels\"] = df[\"labels\"].str.split(\",\")\n",
    "    unique_labels = set()\n",
    "    for labels in df[\"labels\"]:\n",
    "        unique_labels.update(labels)\n",
    "    unique_labels = sorted(list(unique_labels))\n",
    "\n",
    "    for label in unique_labels:\n",
    "        df[label] = df[\"labels\"].apply(lambda x: 1 if label in x else 0)\n",
    "\n",
    "    df = df.drop(\"labels\", axis=1)\n",
    "\n",
    "    return df\n",
    "\n",
    "\n",
    "def make_prediction(model, test_dl):\n",
    "    model.eval()\n",
    "    preds = []\n",
    "    for xb in tqdm(test_dl):\n",
    "        with torch.no_grad():\n",
    "            logits = model(xb.to(device))\n",
    "            pred = softmax(logits, dim=1)\n",
    "        preds.extend(pred.cpu().numpy())\n",
    "    return preds\n",
    "\n",
    "\n",
    "def create_unique_labels(all_labels):\n",
    "    label_dict = {}\n",
    "    all_labels_set = []\n",
    "    first_labels_set = []\n",
    "    for labs in all_labels:\n",
    "        lab = labs.split(\",\")\n",
    "        for l in lab:\n",
    "            if l in label_dict:\n",
    "                label_dict[l] = label_dict[l] + 1\n",
    "            else:\n",
    "                label_dict[l] = 0\n",
    "\n",
    "        all_labels_set.append(set(lab))\n",
    "        first_labels_set.append(lab[0])\n",
    "    classes = list(label_dict.keys())\n",
    "\n",
    "    return label_dict, classes, all_labels_set, first_labels_set"
   ]
  },
  {
   "cell_type": "code",
   "execution_count": 6,
   "id": "969a9b28",
   "metadata": {
    "execution": {
     "iopub.execute_input": "2025-01-09T07:30:35.519428Z",
     "iopub.status.busy": "2025-01-09T07:30:35.519218Z",
     "iopub.status.idle": "2025-01-09T07:30:35.522773Z",
     "shell.execute_reply": "2025-01-09T07:30:35.522000Z"
    },
    "papermill": {
     "duration": 0.00791,
     "end_time": "2025-01-09T07:30:35.524065",
     "exception": false,
     "start_time": "2025-01-09T07:30:35.516155",
     "status": "completed"
    },
    "tags": []
   },
   "outputs": [],
   "source": [
    "path = Path(\"/kaggle/input/freesound-audio-tagging-2019\")\n",
    "data_dir = Path('data')\n",
    "(data_dir/'test_files').mkdir(parents=True, exist_ok=True)"
   ]
  },
  {
   "cell_type": "code",
   "execution_count": 7,
   "id": "03ed7407",
   "metadata": {
    "execution": {
     "iopub.execute_input": "2025-01-09T07:30:35.529938Z",
     "iopub.status.busy": "2025-01-09T07:30:35.529702Z",
     "iopub.status.idle": "2025-01-09T07:31:11.362907Z",
     "shell.execute_reply": "2025-01-09T07:31:11.362050Z"
    },
    "papermill": {
     "duration": 35.840339,
     "end_time": "2025-01-09T07:31:11.366990",
     "exception": false,
     "start_time": "2025-01-09T07:30:35.526651",
     "status": "completed"
    },
    "tags": []
   },
   "outputs": [
    {
     "name": "stdout",
     "output_type": "stream",
     "text": [
      "CPU times: user 20.7 s, sys: 3.5 s, total: 24.2 s\n",
      "Wall time: 35.8 s\n"
     ]
    }
   ],
   "source": [
    "%%time\n",
    "# loading the temp.zip and creating a zip object \n",
    "with ZipFile(path/'test.zip', 'r') as zObject: \n",
    "    zObject.extractall(path=data_dir/'test_files') \n",
    "zObject.close() "
   ]
  },
  {
   "cell_type": "code",
   "execution_count": 8,
   "id": "8468162d",
   "metadata": {
    "_cell_guid": "b1076dfc-b9ad-4769-8c92-a6c4dae69d19",
    "_uuid": "8f2839f25d086af736a60e9eeb907d3b93b6e0e5",
    "execution": {
     "iopub.execute_input": "2025-01-09T07:31:11.373201Z",
     "iopub.status.busy": "2025-01-09T07:31:11.372970Z",
     "iopub.status.idle": "2025-01-09T07:31:23.257071Z",
     "shell.execute_reply": "2025-01-09T07:31:23.256062Z"
    },
    "papermill": {
     "duration": 11.889132,
     "end_time": "2025-01-09T07:31:23.258864",
     "exception": false,
     "start_time": "2025-01-09T07:31:11.369732",
     "status": "completed"
    },
    "tags": []
   },
   "outputs": [
    {
     "name": "stdout",
     "output_type": "stream",
     "text": [
      "=======Data Loader Prepared=========\n",
      "=======Model Loaded=========\n"
     ]
    },
    {
     "name": "stderr",
     "output_type": "stream",
     "text": [
      "100%|██████████| 421/421 [00:03<00:00, 113.31it/s]\n"
     ]
    }
   ],
   "source": [
    "# load input data\n",
    "path = Path(\"/kaggle/input/freesound-audio-tagging-2019\")\n",
    "train_df = pd.read_csv(path / \"train_curated.csv\")\n",
    "train_df = transform_labels(train_df)\n",
    "y_train = train_df.iloc[:, 1:]\n",
    "\n",
    "test_images = sorted(os.listdir(\"data/test_files\"))\n",
    "sub = pd.read_csv(path / \"sample_submission.csv\")\n",
    "\n",
    "# load preprocessed audios and corresponding labels\n",
    "path = Path('/kaggle/input/data-preprocessing/data')\n",
    "processed_test = pickle.load(\n",
    "    open(path / \"mels_test.pkl\", \"rb\")\n",
    ")  # (4970, 128, var, 3)\n",
    "y_train = train_df.iloc[:, 1:]\n",
    "\n",
    "\n",
    "test_ds = FreeShoundTrainDataset(processed_test, None, trainsforms_dict[\"train\"])\n",
    "if debug:\n",
    "    test_ds = Subset(test_ds, range(100))\n",
    "test_dl = DataLoader(test_ds, batch_size=batch_size, shuffle=False)\n",
    "print(\"=======Data Loader Prepared=========\")\n",
    "\n",
    "# load model\n",
    "model = Model(num_classes=80)\n",
    "model.load_state_dict(torch.load(\"/kaggle/input/sound-classification-training/model.pt\",weights_only=True, map_location=device))\n",
    "model.to(device)\n",
    "print(\"=======Model Loaded=========\")\n",
    "\n",
    "preds = make_prediction(model, test_dl)\n",
    "sub = pd.DataFrame(preds, columns=y_train.columns)\n",
    "if debug:\n",
    "    test_fns = sorted(os.listdir(\"data/test_files\"))[:100]\n",
    "else:\n",
    "    test_fns = sorted(os.listdir(\"data/test_files\"))\n",
    "sub[\"fname\"] = test_fns\n",
    "sub = sub[[\"fname\"] + [col for col in sub.columns if col != \"fname\"]]\n",
    "sub.to_csv('submission.csv', index=False)"
   ]
  },
  {
   "cell_type": "code",
   "execution_count": 9,
   "id": "c0e62b19",
   "metadata": {
    "execution": {
     "iopub.execute_input": "2025-01-09T07:31:23.309173Z",
     "iopub.status.busy": "2025-01-09T07:31:23.308736Z",
     "iopub.status.idle": "2025-01-09T07:31:23.316048Z",
     "shell.execute_reply": "2025-01-09T07:31:23.315232Z"
    },
    "papermill": {
     "duration": 0.052936,
     "end_time": "2025-01-09T07:31:23.317983",
     "exception": false,
     "start_time": "2025-01-09T07:31:23.265047",
     "status": "completed"
    },
    "tags": []
   },
   "outputs": [
    {
     "data": {
      "text/plain": [
       "(3361, 81)"
      ]
     },
     "execution_count": 9,
     "metadata": {},
     "output_type": "execute_result"
    }
   ],
   "source": [
    "sub.shape"
   ]
  },
  {
   "cell_type": "code",
   "execution_count": 10,
   "id": "1cd16b53",
   "metadata": {
    "execution": {
     "iopub.execute_input": "2025-01-09T07:31:23.402098Z",
     "iopub.status.busy": "2025-01-09T07:31:23.401660Z",
     "iopub.status.idle": "2025-01-09T07:31:23.430298Z",
     "shell.execute_reply": "2025-01-09T07:31:23.429165Z"
    },
    "papermill": {
     "duration": 0.078485,
     "end_time": "2025-01-09T07:31:23.431846",
     "exception": false,
     "start_time": "2025-01-09T07:31:23.353361",
     "status": "completed"
    },
    "tags": []
   },
   "outputs": [
    {
     "data": {
      "text/html": [
       "<div>\n",
       "<style scoped>\n",
       "    .dataframe tbody tr th:only-of-type {\n",
       "        vertical-align: middle;\n",
       "    }\n",
       "\n",
       "    .dataframe tbody tr th {\n",
       "        vertical-align: top;\n",
       "    }\n",
       "\n",
       "    .dataframe thead th {\n",
       "        text-align: right;\n",
       "    }\n",
       "</style>\n",
       "<table border=\"1\" class=\"dataframe\">\n",
       "  <thead>\n",
       "    <tr style=\"text-align: right;\">\n",
       "      <th></th>\n",
       "      <th>fname</th>\n",
       "      <th>Accelerating_and_revving_and_vroom</th>\n",
       "      <th>Accordion</th>\n",
       "      <th>Acoustic_guitar</th>\n",
       "      <th>Applause</th>\n",
       "      <th>Bark</th>\n",
       "      <th>Bass_drum</th>\n",
       "      <th>Bass_guitar</th>\n",
       "      <th>Bathtub_(filling_or_washing)</th>\n",
       "      <th>Bicycle_bell</th>\n",
       "      <th>...</th>\n",
       "      <th>Toilet_flush</th>\n",
       "      <th>Traffic_noise_and_roadway_noise</th>\n",
       "      <th>Trickle_and_dribble</th>\n",
       "      <th>Walk_and_footsteps</th>\n",
       "      <th>Water_tap_and_faucet</th>\n",
       "      <th>Waves_and_surf</th>\n",
       "      <th>Whispering</th>\n",
       "      <th>Writing</th>\n",
       "      <th>Yell</th>\n",
       "      <th>Zipper_(clothing)</th>\n",
       "    </tr>\n",
       "  </thead>\n",
       "  <tbody>\n",
       "    <tr>\n",
       "      <th>0</th>\n",
       "      <td>4260ebea.wav</td>\n",
       "      <td>5.526355e-04</td>\n",
       "      <td>1.168164e-04</td>\n",
       "      <td>9.200795e-04</td>\n",
       "      <td>0.001300</td>\n",
       "      <td>0.000352</td>\n",
       "      <td>6.471157e-03</td>\n",
       "      <td>5.433353e-04</td>\n",
       "      <td>0.171324</td>\n",
       "      <td>0.011739</td>\n",
       "      <td>...</td>\n",
       "      <td>1.060497e-02</td>\n",
       "      <td>0.000683</td>\n",
       "      <td>0.046363</td>\n",
       "      <td>0.004191</td>\n",
       "      <td>5.046605e-02</td>\n",
       "      <td>0.001014</td>\n",
       "      <td>0.040781</td>\n",
       "      <td>0.017554</td>\n",
       "      <td>0.000657</td>\n",
       "      <td>0.001418</td>\n",
       "    </tr>\n",
       "    <tr>\n",
       "      <th>1</th>\n",
       "      <td>426eb1e0.wav</td>\n",
       "      <td>5.287796e-04</td>\n",
       "      <td>5.855016e-06</td>\n",
       "      <td>8.593398e-06</td>\n",
       "      <td>0.543166</td>\n",
       "      <td>0.000434</td>\n",
       "      <td>3.973585e-05</td>\n",
       "      <td>8.584962e-06</td>\n",
       "      <td>0.005555</td>\n",
       "      <td>0.000037</td>\n",
       "      <td>...</td>\n",
       "      <td>3.574183e-03</td>\n",
       "      <td>0.002330</td>\n",
       "      <td>0.001743</td>\n",
       "      <td>0.004118</td>\n",
       "      <td>3.404551e-04</td>\n",
       "      <td>0.004296</td>\n",
       "      <td>0.002681</td>\n",
       "      <td>0.000232</td>\n",
       "      <td>0.000381</td>\n",
       "      <td>0.002426</td>\n",
       "    </tr>\n",
       "    <tr>\n",
       "      <th>2</th>\n",
       "      <td>428d70bb.wav</td>\n",
       "      <td>8.677715e-04</td>\n",
       "      <td>8.808777e-04</td>\n",
       "      <td>4.453820e-04</td>\n",
       "      <td>0.001728</td>\n",
       "      <td>0.000923</td>\n",
       "      <td>5.742359e-05</td>\n",
       "      <td>1.928717e-05</td>\n",
       "      <td>0.006147</td>\n",
       "      <td>0.000701</td>\n",
       "      <td>...</td>\n",
       "      <td>2.746448e-03</td>\n",
       "      <td>0.003746</td>\n",
       "      <td>0.002694</td>\n",
       "      <td>0.001234</td>\n",
       "      <td>1.094117e-03</td>\n",
       "      <td>0.000503</td>\n",
       "      <td>0.018195</td>\n",
       "      <td>0.000507</td>\n",
       "      <td>0.005958</td>\n",
       "      <td>0.004192</td>\n",
       "    </tr>\n",
       "    <tr>\n",
       "      <th>3</th>\n",
       "      <td>4292b1c9.wav</td>\n",
       "      <td>9.737381e-07</td>\n",
       "      <td>9.461909e-07</td>\n",
       "      <td>5.647109e-07</td>\n",
       "      <td>0.000007</td>\n",
       "      <td>0.000003</td>\n",
       "      <td>1.163760e-07</td>\n",
       "      <td>1.095956e-08</td>\n",
       "      <td>0.000023</td>\n",
       "      <td>0.000002</td>\n",
       "      <td>...</td>\n",
       "      <td>6.321749e-07</td>\n",
       "      <td>0.000009</td>\n",
       "      <td>0.000036</td>\n",
       "      <td>0.000011</td>\n",
       "      <td>7.773207e-07</td>\n",
       "      <td>0.000011</td>\n",
       "      <td>0.002051</td>\n",
       "      <td>0.000048</td>\n",
       "      <td>0.002757</td>\n",
       "      <td>0.000362</td>\n",
       "    </tr>\n",
       "    <tr>\n",
       "      <th>4</th>\n",
       "      <td>429c5071.wav</td>\n",
       "      <td>1.757704e-02</td>\n",
       "      <td>6.951090e-04</td>\n",
       "      <td>1.466429e-03</td>\n",
       "      <td>0.001714</td>\n",
       "      <td>0.029338</td>\n",
       "      <td>1.375458e-02</td>\n",
       "      <td>1.992168e-03</td>\n",
       "      <td>0.003632</td>\n",
       "      <td>0.011808</td>\n",
       "      <td>...</td>\n",
       "      <td>3.827383e-03</td>\n",
       "      <td>0.003707</td>\n",
       "      <td>0.002108</td>\n",
       "      <td>0.012698</td>\n",
       "      <td>1.684943e-03</td>\n",
       "      <td>0.004943</td>\n",
       "      <td>0.011436</td>\n",
       "      <td>0.009589</td>\n",
       "      <td>0.002562</td>\n",
       "      <td>0.012340</td>\n",
       "    </tr>\n",
       "  </tbody>\n",
       "</table>\n",
       "<p>5 rows × 81 columns</p>\n",
       "</div>"
      ],
      "text/plain": [
       "          fname  Accelerating_and_revving_and_vroom     Accordion  \\\n",
       "0  4260ebea.wav                        5.526355e-04  1.168164e-04   \n",
       "1  426eb1e0.wav                        5.287796e-04  5.855016e-06   \n",
       "2  428d70bb.wav                        8.677715e-04  8.808777e-04   \n",
       "3  4292b1c9.wav                        9.737381e-07  9.461909e-07   \n",
       "4  429c5071.wav                        1.757704e-02  6.951090e-04   \n",
       "\n",
       "   Acoustic_guitar  Applause      Bark     Bass_drum   Bass_guitar  \\\n",
       "0     9.200795e-04  0.001300  0.000352  6.471157e-03  5.433353e-04   \n",
       "1     8.593398e-06  0.543166  0.000434  3.973585e-05  8.584962e-06   \n",
       "2     4.453820e-04  0.001728  0.000923  5.742359e-05  1.928717e-05   \n",
       "3     5.647109e-07  0.000007  0.000003  1.163760e-07  1.095956e-08   \n",
       "4     1.466429e-03  0.001714  0.029338  1.375458e-02  1.992168e-03   \n",
       "\n",
       "   Bathtub_(filling_or_washing)  Bicycle_bell  ...  Toilet_flush  \\\n",
       "0                      0.171324      0.011739  ...  1.060497e-02   \n",
       "1                      0.005555      0.000037  ...  3.574183e-03   \n",
       "2                      0.006147      0.000701  ...  2.746448e-03   \n",
       "3                      0.000023      0.000002  ...  6.321749e-07   \n",
       "4                      0.003632      0.011808  ...  3.827383e-03   \n",
       "\n",
       "   Traffic_noise_and_roadway_noise  Trickle_and_dribble  Walk_and_footsteps  \\\n",
       "0                         0.000683             0.046363            0.004191   \n",
       "1                         0.002330             0.001743            0.004118   \n",
       "2                         0.003746             0.002694            0.001234   \n",
       "3                         0.000009             0.000036            0.000011   \n",
       "4                         0.003707             0.002108            0.012698   \n",
       "\n",
       "   Water_tap_and_faucet  Waves_and_surf  Whispering   Writing      Yell  \\\n",
       "0          5.046605e-02        0.001014    0.040781  0.017554  0.000657   \n",
       "1          3.404551e-04        0.004296    0.002681  0.000232  0.000381   \n",
       "2          1.094117e-03        0.000503    0.018195  0.000507  0.005958   \n",
       "3          7.773207e-07        0.000011    0.002051  0.000048  0.002757   \n",
       "4          1.684943e-03        0.004943    0.011436  0.009589  0.002562   \n",
       "\n",
       "   Zipper_(clothing)  \n",
       "0           0.001418  \n",
       "1           0.002426  \n",
       "2           0.004192  \n",
       "3           0.000362  \n",
       "4           0.012340  \n",
       "\n",
       "[5 rows x 81 columns]"
      ]
     },
     "execution_count": 10,
     "metadata": {},
     "output_type": "execute_result"
    }
   ],
   "source": [
    "sub.head()"
   ]
  }
 ],
 "metadata": {
  "kaggle": {
   "accelerator": "nvidiaTeslaT4",
   "dataSources": [
    {
     "databundleVersionId": 503808,
     "sourceId": 10700,
     "sourceType": "competition"
    },
    {
     "sourceId": 216756525,
     "sourceType": "kernelVersion"
    },
    {
     "sourceId": 216760135,
     "sourceType": "kernelVersion"
    }
   ],
   "dockerImageVersionId": 30823,
   "isGpuEnabled": true,
   "isInternetEnabled": false,
   "language": "python",
   "sourceType": "notebook"
  },
  "kernelspec": {
   "display_name": "Python 3",
   "language": "python",
   "name": "python3"
  },
  "language_info": {
   "codemirror_mode": {
    "name": "ipython",
    "version": 3
   },
   "file_extension": ".py",
   "mimetype": "text/x-python",
   "name": "python",
   "nbconvert_exporter": "python",
   "pygments_lexer": "ipython3",
   "version": "3.10.12"
  },
  "papermill": {
   "default_parameters": {},
   "duration": 58.726431,
   "end_time": "2025-01-09T07:31:26.038171",
   "environment_variables": {},
   "exception": null,
   "input_path": "__notebook__.ipynb",
   "output_path": "__notebook__.ipynb",
   "parameters": {},
   "start_time": "2025-01-09T07:30:27.311740",
   "version": "2.6.0"
  }
 },
 "nbformat": 4,
 "nbformat_minor": 5
}
