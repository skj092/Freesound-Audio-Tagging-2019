{
 "cells": [
  {
   "cell_type": "code",
   "execution_count": 1,
   "id": "747b2c40",
   "metadata": {
    "execution": {
     "iopub.execute_input": "2025-01-09T07:24:07.089642Z",
     "iopub.status.busy": "2025-01-09T07:24:07.089328Z",
     "iopub.status.idle": "2025-01-09T07:24:13.741684Z",
     "shell.execute_reply": "2025-01-09T07:24:13.740799Z"
    },
    "papermill": {
     "duration": 6.658577,
     "end_time": "2025-01-09T07:24:13.743306",
     "exception": false,
     "start_time": "2025-01-09T07:24:07.084729",
     "status": "completed"
    },
    "tags": []
   },
   "outputs": [],
   "source": [
    "from pathlib import Path\n",
    "import pickle\n",
    "import pandas as pd\n",
    "import numpy as np\n",
    "from torchvision import transforms\n",
    "from sklearn.preprocessing import LabelEncoder\n",
    "from torch.utils.data import DataLoader, Subset, Dataset\n",
    "from torch import nn, optim\n",
    "import torch\n",
    "from sklearn.metrics import accuracy_score\n",
    "from fastprogress.fastprogress import master_bar, progress_bar\n",
    "import os\n",
    "from tqdm import tqdm\n",
    "from torch.nn.functional import softmax\n",
    "from zipfile import ZipFile \n",
    "from PIL import Image"
   ]
  },
  {
   "cell_type": "markdown",
   "id": "044dabc5",
   "metadata": {
    "papermill": {
     "duration": 0.004111,
     "end_time": "2025-01-09T07:24:13.750747",
     "exception": false,
     "start_time": "2025-01-09T07:24:13.746636",
     "status": "completed"
    },
    "tags": []
   },
   "source": [
    "# Configs "
   ]
  },
  {
   "cell_type": "code",
   "execution_count": 2,
   "id": "051277d3",
   "metadata": {
    "execution": {
     "iopub.execute_input": "2025-01-09T07:24:13.759803Z",
     "iopub.status.busy": "2025-01-09T07:24:13.759256Z",
     "iopub.status.idle": "2025-01-09T07:24:13.835805Z",
     "shell.execute_reply": "2025-01-09T07:24:13.834913Z"
    },
    "papermill": {
     "duration": 0.081491,
     "end_time": "2025-01-09T07:24:13.837165",
     "exception": false,
     "start_time": "2025-01-09T07:24:13.755674",
     "status": "completed"
    },
    "tags": []
   },
   "outputs": [],
   "source": [
    "batch_size = 8\n",
    "lr = 1e-3\n",
    "tmax = 10\n",
    "eta_min = 1e-5\n",
    "num_epochs = 10\n",
    "num_classes = 80\n",
    "debug = False\n",
    "device = torch.device(\"cuda\" if torch.cuda.is_available() else \"cpu\")"
   ]
  },
  {
   "cell_type": "markdown",
   "id": "b43bac77",
   "metadata": {
    "papermill": {
     "duration": 0.002568,
     "end_time": "2025-01-09T07:24:13.842666",
     "exception": false,
     "start_time": "2025-01-09T07:24:13.840098",
     "status": "completed"
    },
    "tags": []
   },
   "source": [
    "# Dataset Class"
   ]
  },
  {
   "cell_type": "code",
   "execution_count": 3,
   "id": "0371306d",
   "metadata": {
    "execution": {
     "iopub.execute_input": "2025-01-09T07:24:13.849176Z",
     "iopub.status.busy": "2025-01-09T07:24:13.848925Z",
     "iopub.status.idle": "2025-01-09T07:24:13.856288Z",
     "shell.execute_reply": "2025-01-09T07:24:13.855472Z"
    },
    "papermill": {
     "duration": 0.011913,
     "end_time": "2025-01-09T07:24:13.857419",
     "exception": false,
     "start_time": "2025-01-09T07:24:13.845506",
     "status": "completed"
    },
    "tags": []
   },
   "outputs": [],
   "source": [
    "trainsforms_dict = {\n",
    "    'train': transforms.Compose([\n",
    "        transforms.RandomHorizontalFlip(0.5),\n",
    "        transforms.ToTensor(),\n",
    "    ]),\n",
    "    'test': transforms.Compose([\n",
    "        transforms.RandomHorizontalFlip(0.5),\n",
    "        transforms.ToTensor(),\n",
    "    ])\n",
    "}\n",
    "\n",
    "\n",
    "class FreeShoundTrainDataset(Dataset):\n",
    "    def __init__(self, mels, labels, transform, time_mask=0.1, freq_mask=0.1, spec_aug=True):\n",
    "        self.mels = mels  # (num_samples, 128, var, 3)\n",
    "        self.labels = labels\n",
    "        self.tfms = transform\n",
    "        self.time_mask = time_mask\n",
    "        self.freq_mask = freq_mask\n",
    "        self.spec_aug = spec_aug\n",
    "\n",
    "    def __len__(self):\n",
    "        return len(self.mels)\n",
    "\n",
    "    def __getitem__(self, idx):\n",
    "        mel = self.mels[idx]  # (128, 451, 3)\n",
    "        base_dim, time_dim, _ = mel.shape\n",
    "        crop = np.random.randint(0, time_dim-base_dim)  # (97)\n",
    "        image = mel[:, crop: crop + base_dim, ...]  # (128, 128, 3)\n",
    "\n",
    "        if self.spec_aug:\n",
    "            freq_mask_begin = int(np.random.uniform(\n",
    "                0, 1 - self.freq_mask) * base_dim)\n",
    "            image[freq_mask_begin:freq_mask_begin +\n",
    "                  int(self.freq_mask * base_dim), ...] = 0\n",
    "            time_mask_begin = int(np.random.uniform(\n",
    "                0, 1 - self.time_mask) * base_dim)\n",
    "            image[:, time_mask_begin:time_mask_begin +\n",
    "                  int(self.time_mask * base_dim), ...] = 0\n",
    "\n",
    "        image = Image.fromarray(image[..., 0], mode='L')  # (128, 128)\n",
    "        image = self.tfms(image).div_(255)  # (1, 128, 128)\n",
    "        if self.labels is not None:\n",
    "            label = np.asarray(self.labels)[idx]\n",
    "            label = torch.from_numpy(label).float()\n",
    "        return (image, label) if self.labels is not None else image"
   ]
  },
  {
   "cell_type": "markdown",
   "id": "6c7ac822",
   "metadata": {
    "papermill": {
     "duration": 0.002491,
     "end_time": "2025-01-09T07:24:13.862640",
     "exception": false,
     "start_time": "2025-01-09T07:24:13.860149",
     "status": "completed"
    },
    "tags": []
   },
   "source": [
    "# Model "
   ]
  },
  {
   "cell_type": "code",
   "execution_count": 4,
   "id": "c7103a89",
   "metadata": {
    "execution": {
     "iopub.execute_input": "2025-01-09T07:24:13.868665Z",
     "iopub.status.busy": "2025-01-09T07:24:13.868437Z",
     "iopub.status.idle": "2025-01-09T07:24:13.872960Z",
     "shell.execute_reply": "2025-01-09T07:24:13.872191Z"
    },
    "papermill": {
     "duration": 0.008854,
     "end_time": "2025-01-09T07:24:13.874176",
     "exception": false,
     "start_time": "2025-01-09T07:24:13.865322",
     "status": "completed"
    },
    "tags": []
   },
   "outputs": [],
   "source": [
    "import torch.nn as nn\n",
    "import torchvision.models as models\n",
    "\n",
    "\n",
    "class Model(nn.Module):\n",
    "    def __init__(self, num_classes, pretrained=False):\n",
    "        super().__init__()\n",
    "\n",
    "        # Load the model with pretrained weights if specified\n",
    "        self.model = models.resnet18(weights=None)\n",
    "\n",
    "        # Modify the first convolution layer for grayscale input (1 channel)\n",
    "        self.model.conv1 = nn.Conv2d(\n",
    "            1, 64, kernel_size=7, stride=2, padding=3, bias=False\n",
    "        )\n",
    "\n",
    "        # Get the input features of the final fully connected layer\n",
    "        self.in_features = self.model.fc.in_features\n",
    "\n",
    "        # Replace the final fully connected layer\n",
    "        self.model.fc = nn.Linear(self.in_features, num_classes)\n",
    "\n",
    "    def forward(self, x):\n",
    "        return self.model(x)"
   ]
  },
  {
   "cell_type": "markdown",
   "id": "64155df1",
   "metadata": {
    "papermill": {
     "duration": 0.002415,
     "end_time": "2025-01-09T07:24:13.879328",
     "exception": false,
     "start_time": "2025-01-09T07:24:13.876913",
     "status": "completed"
    },
    "tags": []
   },
   "source": [
    "# Utilities "
   ]
  },
  {
   "cell_type": "code",
   "execution_count": 5,
   "id": "ad53bed2",
   "metadata": {
    "execution": {
     "iopub.execute_input": "2025-01-09T07:24:13.885203Z",
     "iopub.status.busy": "2025-01-09T07:24:13.885006Z",
     "iopub.status.idle": "2025-01-09T07:24:13.891044Z",
     "shell.execute_reply": "2025-01-09T07:24:13.890333Z"
    },
    "papermill": {
     "duration": 0.010294,
     "end_time": "2025-01-09T07:24:13.892218",
     "exception": false,
     "start_time": "2025-01-09T07:24:13.881924",
     "status": "completed"
    },
    "tags": []
   },
   "outputs": [],
   "source": [
    "def transform_labels(df):\n",
    "    df[\"labels\"] = df[\"labels\"].str.split(\",\")\n",
    "    unique_labels = set()\n",
    "    for labels in df[\"labels\"]:\n",
    "        unique_labels.update(labels)\n",
    "    unique_labels = sorted(list(unique_labels))\n",
    "\n",
    "    for label in unique_labels:\n",
    "        df[label] = df[\"labels\"].apply(lambda x: 1 if label in x else 0)\n",
    "\n",
    "    df = df.drop(\"labels\", axis=1)\n",
    "\n",
    "    return df\n",
    "\n",
    "\n",
    "def make_prediction(model, test_dl):\n",
    "    model.eval()\n",
    "    preds = []\n",
    "    for xb in tqdm(test_dl):\n",
    "        with torch.no_grad():\n",
    "            logits = model(xb.to(device))\n",
    "            pred = softmax(logits, dim=1)\n",
    "        preds.extend(pred.cpu().numpy())\n",
    "    return preds\n",
    "\n",
    "\n",
    "def create_unique_labels(all_labels):\n",
    "    label_dict = {}\n",
    "    all_labels_set = []\n",
    "    first_labels_set = []\n",
    "    for labs in all_labels:\n",
    "        lab = labs.split(\",\")\n",
    "        for l in lab:\n",
    "            if l in label_dict:\n",
    "                label_dict[l] = label_dict[l] + 1\n",
    "            else:\n",
    "                label_dict[l] = 0\n",
    "\n",
    "        all_labels_set.append(set(lab))\n",
    "        first_labels_set.append(lab[0])\n",
    "    classes = list(label_dict.keys())\n",
    "\n",
    "    return label_dict, classes, all_labels_set, first_labels_set"
   ]
  },
  {
   "cell_type": "code",
   "execution_count": 6,
   "id": "7f20f036",
   "metadata": {
    "execution": {
     "iopub.execute_input": "2025-01-09T07:24:13.898214Z",
     "iopub.status.busy": "2025-01-09T07:24:13.898020Z",
     "iopub.status.idle": "2025-01-09T07:24:13.901304Z",
     "shell.execute_reply": "2025-01-09T07:24:13.900684Z"
    },
    "papermill": {
     "duration": 0.007534,
     "end_time": "2025-01-09T07:24:13.902440",
     "exception": false,
     "start_time": "2025-01-09T07:24:13.894906",
     "status": "completed"
    },
    "tags": []
   },
   "outputs": [],
   "source": [
    "path = Path(\"/kaggle/input/freesound-audio-tagging-2019\")\n",
    "data_dir = Path('data')\n",
    "(data_dir/'test_files').mkdir(parents=True, exist_ok=True)"
   ]
  },
  {
   "cell_type": "code",
   "execution_count": 7,
   "id": "e9752b9d",
   "metadata": {
    "execution": {
     "iopub.execute_input": "2025-01-09T07:24:13.908389Z",
     "iopub.status.busy": "2025-01-09T07:24:13.908198Z",
     "iopub.status.idle": "2025-01-09T07:24:48.633571Z",
     "shell.execute_reply": "2025-01-09T07:24:48.632677Z"
    },
    "papermill": {
     "duration": 34.732257,
     "end_time": "2025-01-09T07:24:48.637367",
     "exception": false,
     "start_time": "2025-01-09T07:24:13.905110",
     "status": "completed"
    },
    "tags": []
   },
   "outputs": [
    {
     "name": "stdout",
     "output_type": "stream",
     "text": [
      "CPU times: user 20.1 s, sys: 3.68 s, total: 23.8 s\n",
      "Wall time: 34.7 s\n"
     ]
    }
   ],
   "source": [
    "%%time\n",
    "# loading the temp.zip and creating a zip object \n",
    "with ZipFile(path/'test.zip', 'r') as zObject: \n",
    "    zObject.extractall(path=data_dir/'test_files') \n",
    "zObject.close() "
   ]
  },
  {
   "cell_type": "code",
   "execution_count": 8,
   "id": "9478478c",
   "metadata": {
    "_cell_guid": "b1076dfc-b9ad-4769-8c92-a6c4dae69d19",
    "_uuid": "8f2839f25d086af736a60e9eeb907d3b93b6e0e5",
    "execution": {
     "iopub.execute_input": "2025-01-09T07:24:48.644073Z",
     "iopub.status.busy": "2025-01-09T07:24:48.643823Z",
     "iopub.status.idle": "2025-01-09T07:24:59.333825Z",
     "shell.execute_reply": "2025-01-09T07:24:59.333153Z"
    },
    "papermill": {
     "duration": 10.694921,
     "end_time": "2025-01-09T07:24:59.335190",
     "exception": false,
     "start_time": "2025-01-09T07:24:48.640269",
     "status": "completed"
    },
    "tags": []
   },
   "outputs": [
    {
     "name": "stdout",
     "output_type": "stream",
     "text": [
      "=======Data Loader Prepared=========\n",
      "=======Model Loaded=========\n"
     ]
    },
    {
     "name": "stderr",
     "output_type": "stream",
     "text": [
      "100%|██████████| 421/421 [00:04<00:00, 100.03it/s]\n"
     ]
    }
   ],
   "source": [
    "# load input data\n",
    "path = Path(\"/kaggle/input/freesound-audio-tagging-2019\")\n",
    "train_df = pd.read_csv(path / \"train_curated.csv\")\n",
    "train_df = transform_labels(train_df)\n",
    "y_train = train_df.iloc[:, 1:]\n",
    "\n",
    "test_images = sorted(os.listdir(\"data/test_files\"))\n",
    "sub = pd.read_csv(path / \"sample_submission.csv\")\n",
    "\n",
    "# load preprocessed audios and corresponding labels\n",
    "path = Path('/kaggle/input/data-preprocessing/data')\n",
    "processed_test = pickle.load(\n",
    "    open(path / \"mels_test.pkl\", \"rb\")\n",
    ")  # (4970, 128, var, 3)\n",
    "y_train = train_df.iloc[:, 1:]\n",
    "\n",
    "\n",
    "test_ds = FreeShoundTrainDataset(processed_test, None, trainsforms_dict[\"train\"])\n",
    "if debug:\n",
    "    test_ds = Subset(test_ds, range(100))\n",
    "test_dl = DataLoader(test_ds, batch_size=batch_size, shuffle=False)\n",
    "print(\"=======Data Loader Prepared=========\")\n",
    "\n",
    "# load model\n",
    "model = Model(num_classes=80)\n",
    "model.load_state_dict(torch.load(\"/kaggle/input/sound-classification-training/model.pt\",weights_only=True, map_location=device))\n",
    "model.to(device)\n",
    "print(\"=======Model Loaded=========\")\n",
    "\n",
    "preds = make_prediction(model, test_dl)\n",
    "sub = pd.DataFrame(preds, columns=y_train.columns)\n",
    "if debug:\n",
    "    test_fns = sorted(os.listdir(\"data/test_files\"))[:100]\n",
    "else:\n",
    "    test_fns = sorted(os.listdir(\"data/test_files\"))\n",
    "sub[\"fname\"] = test_fns\n",
    "sub = sub[[\"fname\"] + [col for col in sub.columns if col != \"fname\"]]"
   ]
  },
  {
   "cell_type": "code",
   "execution_count": 9,
   "id": "31882540",
   "metadata": {
    "execution": {
     "iopub.execute_input": "2025-01-09T07:24:59.345241Z",
     "iopub.status.busy": "2025-01-09T07:24:59.344984Z",
     "iopub.status.idle": "2025-01-09T07:24:59.350160Z",
     "shell.execute_reply": "2025-01-09T07:24:59.349397Z"
    },
    "papermill": {
     "duration": 0.011536,
     "end_time": "2025-01-09T07:24:59.351459",
     "exception": false,
     "start_time": "2025-01-09T07:24:59.339923",
     "status": "completed"
    },
    "tags": []
   },
   "outputs": [
    {
     "data": {
      "text/plain": [
       "(3361, 81)"
      ]
     },
     "execution_count": 9,
     "metadata": {},
     "output_type": "execute_result"
    }
   ],
   "source": [
    "sub.shape"
   ]
  },
  {
   "cell_type": "code",
   "execution_count": 10,
   "id": "94b89914",
   "metadata": {
    "execution": {
     "iopub.execute_input": "2025-01-09T07:24:59.360959Z",
     "iopub.status.busy": "2025-01-09T07:24:59.360752Z",
     "iopub.status.idle": "2025-01-09T07:24:59.383366Z",
     "shell.execute_reply": "2025-01-09T07:24:59.382713Z"
    },
    "papermill": {
     "duration": 0.028586,
     "end_time": "2025-01-09T07:24:59.384471",
     "exception": false,
     "start_time": "2025-01-09T07:24:59.355885",
     "status": "completed"
    },
    "tags": []
   },
   "outputs": [
    {
     "data": {
      "text/html": [
       "<div>\n",
       "<style scoped>\n",
       "    .dataframe tbody tr th:only-of-type {\n",
       "        vertical-align: middle;\n",
       "    }\n",
       "\n",
       "    .dataframe tbody tr th {\n",
       "        vertical-align: top;\n",
       "    }\n",
       "\n",
       "    .dataframe thead th {\n",
       "        text-align: right;\n",
       "    }\n",
       "</style>\n",
       "<table border=\"1\" class=\"dataframe\">\n",
       "  <thead>\n",
       "    <tr style=\"text-align: right;\">\n",
       "      <th></th>\n",
       "      <th>fname</th>\n",
       "      <th>Accelerating_and_revving_and_vroom</th>\n",
       "      <th>Accordion</th>\n",
       "      <th>Acoustic_guitar</th>\n",
       "      <th>Applause</th>\n",
       "      <th>Bark</th>\n",
       "      <th>Bass_drum</th>\n",
       "      <th>Bass_guitar</th>\n",
       "      <th>Bathtub_(filling_or_washing)</th>\n",
       "      <th>Bicycle_bell</th>\n",
       "      <th>...</th>\n",
       "      <th>Toilet_flush</th>\n",
       "      <th>Traffic_noise_and_roadway_noise</th>\n",
       "      <th>Trickle_and_dribble</th>\n",
       "      <th>Walk_and_footsteps</th>\n",
       "      <th>Water_tap_and_faucet</th>\n",
       "      <th>Waves_and_surf</th>\n",
       "      <th>Whispering</th>\n",
       "      <th>Writing</th>\n",
       "      <th>Yell</th>\n",
       "      <th>Zipper_(clothing)</th>\n",
       "    </tr>\n",
       "  </thead>\n",
       "  <tbody>\n",
       "    <tr>\n",
       "      <th>0</th>\n",
       "      <td>4260ebea.wav</td>\n",
       "      <td>0.000602</td>\n",
       "      <td>0.000101</td>\n",
       "      <td>5.996811e-04</td>\n",
       "      <td>0.000908</td>\n",
       "      <td>0.000268</td>\n",
       "      <td>7.259398e-03</td>\n",
       "      <td>6.270938e-04</td>\n",
       "      <td>0.121442</td>\n",
       "      <td>0.012299</td>\n",
       "      <td>...</td>\n",
       "      <td>8.595615e-03</td>\n",
       "      <td>0.000708</td>\n",
       "      <td>0.027358</td>\n",
       "      <td>0.005255</td>\n",
       "      <td>0.081108</td>\n",
       "      <td>0.001142</td>\n",
       "      <td>0.024448</td>\n",
       "      <td>0.028683</td>\n",
       "      <td>0.000757</td>\n",
       "      <td>0.001978</td>\n",
       "    </tr>\n",
       "    <tr>\n",
       "      <th>1</th>\n",
       "      <td>426eb1e0.wav</td>\n",
       "      <td>0.000117</td>\n",
       "      <td>0.000001</td>\n",
       "      <td>1.712925e-06</td>\n",
       "      <td>0.599695</td>\n",
       "      <td>0.000093</td>\n",
       "      <td>4.969217e-06</td>\n",
       "      <td>1.114354e-06</td>\n",
       "      <td>0.000914</td>\n",
       "      <td>0.000004</td>\n",
       "      <td>...</td>\n",
       "      <td>1.142444e-03</td>\n",
       "      <td>0.000567</td>\n",
       "      <td>0.000516</td>\n",
       "      <td>0.000312</td>\n",
       "      <td>0.000056</td>\n",
       "      <td>0.000756</td>\n",
       "      <td>0.000447</td>\n",
       "      <td>0.000031</td>\n",
       "      <td>0.000165</td>\n",
       "      <td>0.000340</td>\n",
       "    </tr>\n",
       "    <tr>\n",
       "      <th>2</th>\n",
       "      <td>428d70bb.wav</td>\n",
       "      <td>0.002556</td>\n",
       "      <td>0.002132</td>\n",
       "      <td>5.669611e-04</td>\n",
       "      <td>0.002889</td>\n",
       "      <td>0.001269</td>\n",
       "      <td>1.742587e-04</td>\n",
       "      <td>6.074979e-05</td>\n",
       "      <td>0.008497</td>\n",
       "      <td>0.005772</td>\n",
       "      <td>...</td>\n",
       "      <td>7.070701e-03</td>\n",
       "      <td>0.019006</td>\n",
       "      <td>0.005615</td>\n",
       "      <td>0.002099</td>\n",
       "      <td>0.002172</td>\n",
       "      <td>0.001837</td>\n",
       "      <td>0.012931</td>\n",
       "      <td>0.001022</td>\n",
       "      <td>0.006196</td>\n",
       "      <td>0.010164</td>\n",
       "    </tr>\n",
       "    <tr>\n",
       "      <th>3</th>\n",
       "      <td>4292b1c9.wav</td>\n",
       "      <td>0.000001</td>\n",
       "      <td>0.000002</td>\n",
       "      <td>6.894509e-07</td>\n",
       "      <td>0.000018</td>\n",
       "      <td>0.000005</td>\n",
       "      <td>1.675535e-07</td>\n",
       "      <td>2.135460e-08</td>\n",
       "      <td>0.000032</td>\n",
       "      <td>0.000003</td>\n",
       "      <td>...</td>\n",
       "      <td>8.218943e-07</td>\n",
       "      <td>0.000016</td>\n",
       "      <td>0.000067</td>\n",
       "      <td>0.000013</td>\n",
       "      <td>0.000001</td>\n",
       "      <td>0.000015</td>\n",
       "      <td>0.005783</td>\n",
       "      <td>0.000055</td>\n",
       "      <td>0.007337</td>\n",
       "      <td>0.000461</td>\n",
       "    </tr>\n",
       "    <tr>\n",
       "      <th>4</th>\n",
       "      <td>429c5071.wav</td>\n",
       "      <td>0.005128</td>\n",
       "      <td>0.000500</td>\n",
       "      <td>8.261192e-04</td>\n",
       "      <td>0.004252</td>\n",
       "      <td>0.023423</td>\n",
       "      <td>2.095702e-03</td>\n",
       "      <td>8.449954e-04</td>\n",
       "      <td>0.006091</td>\n",
       "      <td>0.013033</td>\n",
       "      <td>...</td>\n",
       "      <td>3.295086e-03</td>\n",
       "      <td>0.010831</td>\n",
       "      <td>0.009838</td>\n",
       "      <td>0.034058</td>\n",
       "      <td>0.005744</td>\n",
       "      <td>0.008192</td>\n",
       "      <td>0.004893</td>\n",
       "      <td>0.008229</td>\n",
       "      <td>0.002020</td>\n",
       "      <td>0.039826</td>\n",
       "    </tr>\n",
       "  </tbody>\n",
       "</table>\n",
       "<p>5 rows × 81 columns</p>\n",
       "</div>"
      ],
      "text/plain": [
       "          fname  Accelerating_and_revving_and_vroom  Accordion  \\\n",
       "0  4260ebea.wav                            0.000602   0.000101   \n",
       "1  426eb1e0.wav                            0.000117   0.000001   \n",
       "2  428d70bb.wav                            0.002556   0.002132   \n",
       "3  4292b1c9.wav                            0.000001   0.000002   \n",
       "4  429c5071.wav                            0.005128   0.000500   \n",
       "\n",
       "   Acoustic_guitar  Applause      Bark     Bass_drum   Bass_guitar  \\\n",
       "0     5.996811e-04  0.000908  0.000268  7.259398e-03  6.270938e-04   \n",
       "1     1.712925e-06  0.599695  0.000093  4.969217e-06  1.114354e-06   \n",
       "2     5.669611e-04  0.002889  0.001269  1.742587e-04  6.074979e-05   \n",
       "3     6.894509e-07  0.000018  0.000005  1.675535e-07  2.135460e-08   \n",
       "4     8.261192e-04  0.004252  0.023423  2.095702e-03  8.449954e-04   \n",
       "\n",
       "   Bathtub_(filling_or_washing)  Bicycle_bell  ...  Toilet_flush  \\\n",
       "0                      0.121442      0.012299  ...  8.595615e-03   \n",
       "1                      0.000914      0.000004  ...  1.142444e-03   \n",
       "2                      0.008497      0.005772  ...  7.070701e-03   \n",
       "3                      0.000032      0.000003  ...  8.218943e-07   \n",
       "4                      0.006091      0.013033  ...  3.295086e-03   \n",
       "\n",
       "   Traffic_noise_and_roadway_noise  Trickle_and_dribble  Walk_and_footsteps  \\\n",
       "0                         0.000708             0.027358            0.005255   \n",
       "1                         0.000567             0.000516            0.000312   \n",
       "2                         0.019006             0.005615            0.002099   \n",
       "3                         0.000016             0.000067            0.000013   \n",
       "4                         0.010831             0.009838            0.034058   \n",
       "\n",
       "   Water_tap_and_faucet  Waves_and_surf  Whispering   Writing      Yell  \\\n",
       "0              0.081108        0.001142    0.024448  0.028683  0.000757   \n",
       "1              0.000056        0.000756    0.000447  0.000031  0.000165   \n",
       "2              0.002172        0.001837    0.012931  0.001022  0.006196   \n",
       "3              0.000001        0.000015    0.005783  0.000055  0.007337   \n",
       "4              0.005744        0.008192    0.004893  0.008229  0.002020   \n",
       "\n",
       "   Zipper_(clothing)  \n",
       "0           0.001978  \n",
       "1           0.000340  \n",
       "2           0.010164  \n",
       "3           0.000461  \n",
       "4           0.039826  \n",
       "\n",
       "[5 rows x 81 columns]"
      ]
     },
     "execution_count": 10,
     "metadata": {},
     "output_type": "execute_result"
    }
   ],
   "source": [
    "sub.head()"
   ]
  },
  {
   "cell_type": "code",
   "execution_count": null,
   "id": "e7139c84",
   "metadata": {
    "papermill": {
     "duration": 0.004618,
     "end_time": "2025-01-09T07:24:59.394117",
     "exception": false,
     "start_time": "2025-01-09T07:24:59.389499",
     "status": "completed"
    },
    "tags": []
   },
   "outputs": [],
   "source": []
  }
 ],
 "metadata": {
  "kaggle": {
   "accelerator": "nvidiaTeslaT4",
   "dataSources": [
    {
     "databundleVersionId": 503808,
     "sourceId": 10700,
     "sourceType": "competition"
    },
    {
     "sourceId": 216756525,
     "sourceType": "kernelVersion"
    },
    {
     "sourceId": 216760135,
     "sourceType": "kernelVersion"
    }
   ],
   "dockerImageVersionId": 30823,
   "isGpuEnabled": true,
   "isInternetEnabled": false,
   "language": "python",
   "sourceType": "notebook"
  },
  "kernelspec": {
   "display_name": "Python 3",
   "language": "python",
   "name": "python3"
  },
  "language_info": {
   "codemirror_mode": {
    "name": "ipython",
    "version": 3
   },
   "file_extension": ".py",
   "mimetype": "text/x-python",
   "name": "python",
   "nbconvert_exporter": "python",
   "pygments_lexer": "ipython3",
   "version": "3.10.12"
  },
  "papermill": {
   "default_parameters": {},
   "duration": 56.293857,
   "end_time": "2025-01-09T07:25:01.018817",
   "environment_variables": {},
   "exception": null,
   "input_path": "__notebook__.ipynb",
   "output_path": "__notebook__.ipynb",
   "parameters": {},
   "start_time": "2025-01-09T07:24:04.724960",
   "version": "2.6.0"
  }
 },
 "nbformat": 4,
 "nbformat_minor": 5
}
