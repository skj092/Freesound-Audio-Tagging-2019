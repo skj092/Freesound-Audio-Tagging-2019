{
 "cells": [
  {
   "cell_type": "markdown",
   "id": "29bcb801",
   "metadata": {
    "papermill": {
     "duration": 0.003822,
     "end_time": "2025-01-09T06:50:08.614094",
     "exception": false,
     "start_time": "2025-01-09T06:50:08.610272",
     "status": "completed"
    },
    "tags": []
   },
   "source": [
    "## Import the necessary modules"
   ]
  },
  {
   "cell_type": "code",
   "execution_count": 1,
   "id": "99a64d70",
   "metadata": {
    "execution": {
     "iopub.execute_input": "2025-01-09T06:50:08.622017Z",
     "iopub.status.busy": "2025-01-09T06:50:08.621710Z",
     "iopub.status.idle": "2025-01-09T06:50:20.002759Z",
     "shell.execute_reply": "2025-01-09T06:50:20.002027Z"
    },
    "papermill": {
     "duration": 11.387067,
     "end_time": "2025-01-09T06:50:20.004318",
     "exception": false,
     "start_time": "2025-01-09T06:50:08.617251",
     "status": "completed"
    },
    "tags": []
   },
   "outputs": [],
   "source": [
    "from pathlib import Path\n",
    "import pickle\n",
    "import pandas as pd\n",
    "import numpy as np\n",
    "from torchvision import transforms\n",
    "from sklearn.preprocessing import LabelEncoder\n",
    "from torch.utils.data import Dataset, DataLoader, Subset, random_split\n",
    "from torch import nn, optim\n",
    "import torch\n",
    "from sklearn.metrics import accuracy_score\n",
    "from fastprogress.fastprogress import master_bar, progress_bar\n",
    "from PIL import Image"
   ]
  },
  {
   "cell_type": "markdown",
   "id": "f7f54e45",
   "metadata": {
    "papermill": {
     "duration": 0.002744,
     "end_time": "2025-01-09T06:50:20.010557",
     "exception": false,
     "start_time": "2025-01-09T06:50:20.007813",
     "status": "completed"
    },
    "tags": []
   },
   "source": [
    "# configs setup"
   ]
  },
  {
   "cell_type": "code",
   "execution_count": 2,
   "id": "e31d028c",
   "metadata": {
    "execution": {
     "iopub.execute_input": "2025-01-09T06:50:20.017313Z",
     "iopub.status.busy": "2025-01-09T06:50:20.016919Z",
     "iopub.status.idle": "2025-01-09T06:50:20.097494Z",
     "shell.execute_reply": "2025-01-09T06:50:20.096676Z"
    },
    "papermill": {
     "duration": 0.085573,
     "end_time": "2025-01-09T06:50:20.098883",
     "exception": false,
     "start_time": "2025-01-09T06:50:20.013310",
     "status": "completed"
    },
    "tags": []
   },
   "outputs": [],
   "source": [
    "batch_size = 64\n",
    "lr = 1e-3\n",
    "tmax = 10\n",
    "eta_min = 1e-5\n",
    "num_epochs = 10\n",
    "debug = False\n",
    "device = torch.device('cuda' if torch.cuda.is_available() else 'cpu')"
   ]
  },
  {
   "cell_type": "markdown",
   "id": "e0472a26",
   "metadata": {
    "papermill": {
     "duration": 0.002971,
     "end_time": "2025-01-09T06:50:20.105147",
     "exception": false,
     "start_time": "2025-01-09T06:50:20.102176",
     "status": "completed"
    },
    "tags": []
   },
   "source": [
    "# dataset class and transforms"
   ]
  },
  {
   "cell_type": "code",
   "execution_count": 3,
   "id": "df36e9e1",
   "metadata": {
    "execution": {
     "iopub.execute_input": "2025-01-09T06:50:20.112090Z",
     "iopub.status.busy": "2025-01-09T06:50:20.111807Z",
     "iopub.status.idle": "2025-01-09T06:50:20.120196Z",
     "shell.execute_reply": "2025-01-09T06:50:20.119513Z"
    },
    "papermill": {
     "duration": 0.013433,
     "end_time": "2025-01-09T06:50:20.121537",
     "exception": false,
     "start_time": "2025-01-09T06:50:20.108104",
     "status": "completed"
    },
    "tags": []
   },
   "outputs": [],
   "source": [
    "trainsforms_dict = {\n",
    "    'train': transforms.Compose([\n",
    "        transforms.RandomHorizontalFlip(0.5),\n",
    "        transforms.ToTensor(),\n",
    "    ]),\n",
    "    'test': transforms.Compose([\n",
    "        transforms.RandomHorizontalFlip(0.5),\n",
    "        transforms.ToTensor(),\n",
    "    ])\n",
    "}\n",
    "\n",
    "\n",
    "class FreeShoundTrainDataset(Dataset):\n",
    "    def __init__(self, mels, labels, transform, time_mask=0.1, freq_mask=0.1, spec_aug=True):\n",
    "        self.mels = mels  # (num_samples, 128, var, 3)\n",
    "        self.labels = labels\n",
    "        self.tfms = transform\n",
    "        self.time_mask = time_mask\n",
    "        self.freq_mask = freq_mask\n",
    "        self.spec_aug = spec_aug\n",
    "\n",
    "    def __len__(self):\n",
    "        return len(self.mels)\n",
    "\n",
    "    def __getitem__(self, idx):\n",
    "        mel = self.mels[idx]  # (128, 451, 3)\n",
    "        base_dim, time_dim, _ = mel.shape\n",
    "        crop = np.random.randint(0, time_dim-base_dim)  # (97)\n",
    "        image = mel[:, crop: crop + base_dim, ...]  # (128, 128, 3)\n",
    "\n",
    "        if self.spec_aug:\n",
    "            freq_mask_begin = int(np.random.uniform(\n",
    "                0, 1 - self.freq_mask) * base_dim)\n",
    "            image[freq_mask_begin:freq_mask_begin +\n",
    "                  int(self.freq_mask * base_dim), ...] = 0\n",
    "            time_mask_begin = int(np.random.uniform(\n",
    "                0, 1 - self.time_mask) * base_dim)\n",
    "            image[:, time_mask_begin:time_mask_begin +\n",
    "                  int(self.time_mask * base_dim), ...] = 0\n",
    "\n",
    "        image = Image.fromarray(image[..., 0], mode='L')  # (128, 128)\n",
    "        image = self.tfms(image).div_(255)  # (1, 128, 128)\n",
    "        if self.labels is not None:\n",
    "            label = np.asarray(self.labels)[idx]\n",
    "            label = torch.from_numpy(label).float()\n",
    "        return (image, label) if self.labels is not None else image"
   ]
  },
  {
   "cell_type": "markdown",
   "id": "3007727a",
   "metadata": {
    "papermill": {
     "duration": 0.002791,
     "end_time": "2025-01-09T06:50:20.127417",
     "exception": false,
     "start_time": "2025-01-09T06:50:20.124626",
     "status": "completed"
    },
    "tags": []
   },
   "source": [
    "# handle multi label "
   ]
  },
  {
   "cell_type": "code",
   "execution_count": 4,
   "id": "9a2c53c3",
   "metadata": {
    "execution": {
     "iopub.execute_input": "2025-01-09T06:50:20.133955Z",
     "iopub.status.busy": "2025-01-09T06:50:20.133724Z",
     "iopub.status.idle": "2025-01-09T06:50:20.138211Z",
     "shell.execute_reply": "2025-01-09T06:50:20.137524Z"
    },
    "papermill": {
     "duration": 0.009363,
     "end_time": "2025-01-09T06:50:20.139594",
     "exception": false,
     "start_time": "2025-01-09T06:50:20.130231",
     "status": "completed"
    },
    "tags": []
   },
   "outputs": [],
   "source": [
    "def transform_labels(df):\n",
    "    df['labels'] = df['labels'].str.split(',')\n",
    "    unique_labels = set()\n",
    "    for labels in df['labels']:\n",
    "        unique_labels.update(labels)\n",
    "    unique_labels = sorted(list(unique_labels))\n",
    "\n",
    "    for label in unique_labels:\n",
    "        df[label] = df['labels'].apply(lambda x: 1 if label in x else 0)\n",
    "\n",
    "    df = df.drop('labels', axis=1)\n",
    "\n",
    "    return df"
   ]
  },
  {
   "cell_type": "markdown",
   "id": "f1bf0d4f",
   "metadata": {
    "papermill": {
     "duration": 0.00284,
     "end_time": "2025-01-09T06:50:20.145621",
     "exception": false,
     "start_time": "2025-01-09T06:50:20.142781",
     "status": "completed"
    },
    "tags": []
   },
   "source": [
    "# Models "
   ]
  },
  {
   "cell_type": "code",
   "execution_count": 5,
   "id": "91a88287",
   "metadata": {
    "execution": {
     "iopub.execute_input": "2025-01-09T06:50:20.152173Z",
     "iopub.status.busy": "2025-01-09T06:50:20.151912Z",
     "iopub.status.idle": "2025-01-09T06:50:20.157044Z",
     "shell.execute_reply": "2025-01-09T06:50:20.156346Z"
    },
    "papermill": {
     "duration": 0.009971,
     "end_time": "2025-01-09T06:50:20.158360",
     "exception": false,
     "start_time": "2025-01-09T06:50:20.148389",
     "status": "completed"
    },
    "tags": []
   },
   "outputs": [],
   "source": [
    "import torch.nn as nn\n",
    "import torchvision.models as models\n",
    "\n",
    "class Model(nn.Module):\n",
    "    def __init__(self, num_classes, pretrained=False):\n",
    "        super().__init__()\n",
    "        \n",
    "        # Load the model with pretrained weights if specified\n",
    "        self.model = models.resnet18(pretrained=pretrained)\n",
    "        \n",
    "        # Modify the first convolution layer for grayscale input (1 channel)\n",
    "        self.model.conv1 = nn.Conv2d(1, 64, kernel_size=7, stride=2, padding=3, bias=False)\n",
    "        \n",
    "        # Get the input features of the final fully connected layer\n",
    "        self.in_features = self.model.fc.in_features\n",
    "        \n",
    "        # Replace the final fully connected layer\n",
    "        self.model.fc = nn.Linear(self.in_features, num_classes)\n",
    "    \n",
    "    def forward(self, x):\n",
    "        return self.model(x)"
   ]
  },
  {
   "cell_type": "markdown",
   "id": "99b84a64",
   "metadata": {
    "papermill": {
     "duration": 0.00254,
     "end_time": "2025-01-09T06:50:20.163720",
     "exception": false,
     "start_time": "2025-01-09T06:50:20.161180",
     "status": "completed"
    },
    "tags": []
   },
   "source": [
    "# Training Function"
   ]
  },
  {
   "cell_type": "code",
   "execution_count": 6,
   "id": "62fa6bb0",
   "metadata": {
    "execution": {
     "iopub.execute_input": "2025-01-09T06:50:20.170617Z",
     "iopub.status.busy": "2025-01-09T06:50:20.170301Z",
     "iopub.status.idle": "2025-01-09T06:50:20.177445Z",
     "shell.execute_reply": "2025-01-09T06:50:20.176679Z"
    },
    "papermill": {
     "duration": 0.012257,
     "end_time": "2025-01-09T06:50:20.178823",
     "exception": false,
     "start_time": "2025-01-09T06:50:20.166566",
     "status": "completed"
    },
    "tags": []
   },
   "outputs": [],
   "source": [
    "from fastprogress.fastprogress import master_bar, progress_bar\n",
    "import torch\n",
    "\n",
    "\n",
    "def train_model(\n",
    "    model, train_dl, valid_dl, loss_fn, num_epochs, optimizer, scheduler, device\n",
    "):\n",
    "    mb = master_bar(range(num_epochs))\n",
    "    for epoch in mb:\n",
    "        model.train()\n",
    "        running_loss = 0\n",
    "        running_acc = 0\n",
    "        val_run_loss = 0\n",
    "        val_run_acc = 0\n",
    "        for xb, yb in progress_bar(train_dl, parent=mb):\n",
    "            logits = model(xb.to(device))\n",
    "            loss = loss_fn(logits, yb.to(device))\n",
    "            running_loss += loss.item()\n",
    "            optimizer.zero_grad()\n",
    "            loss.backward()\n",
    "            optimizer.step()\n",
    "\n",
    "            predictions = (torch.sigmoid(logits) > 0.5).float()\n",
    "            accuracy = (predictions.cpu().numpy() == yb.cpu().numpy()).mean()\n",
    "            running_acc += accuracy.item()\n",
    "        scheduler.step()\n",
    "\n",
    "        for xb, yb in progress_bar(valid_dl, parent=mb):\n",
    "            with torch.no_grad():\n",
    "                logits = model(xb.to(device))\n",
    "                loss = loss_fn(logits, yb.to(device))\n",
    "                val_run_loss += loss.item()\n",
    "\n",
    "                predictions = (torch.sigmoid(logits) > 0.5).float()\n",
    "                accuracy = (predictions.cpu().numpy() == yb.cpu().numpy()).mean()\n",
    "                val_run_acc += accuracy.item()\n",
    "        mb.write(\n",
    "            f\"Epoch {epoch} | \"\n",
    "            f\"Train Loss: {running_loss/len(train_dl):.3f} | \"\n",
    "            f\"Valid Loss: {val_run_loss/len(valid_dl):.3f} | \"\n",
    "            f\"Train Acc: {running_acc/len(train_dl):.2f} | \"\n",
    "            f\"Valid Acc: {val_run_acc/len(valid_dl):.2f} | \"\n",
    "        )\n"
   ]
  },
  {
   "cell_type": "code",
   "execution_count": 7,
   "id": "94328d18",
   "metadata": {
    "execution": {
     "iopub.execute_input": "2025-01-09T06:50:20.185560Z",
     "iopub.status.busy": "2025-01-09T06:50:20.185264Z",
     "iopub.status.idle": "2025-01-09T06:52:02.928291Z",
     "shell.execute_reply": "2025-01-09T06:52:02.927558Z"
    },
    "papermill": {
     "duration": 102.748142,
     "end_time": "2025-01-09T06:52:02.929997",
     "exception": false,
     "start_time": "2025-01-09T06:50:20.181855",
     "status": "completed"
    },
    "tags": []
   },
   "outputs": [
    {
     "name": "stderr",
     "output_type": "stream",
     "text": [
      "/usr/local/lib/python3.10/dist-packages/torchvision/models/_utils.py:208: UserWarning: The parameter 'pretrained' is deprecated since 0.13 and may be removed in the future, please use 'weights' instead.\n",
      "  warnings.warn(\n",
      "/usr/local/lib/python3.10/dist-packages/torchvision/models/_utils.py:223: UserWarning: Arguments other than a weight enum or `None` for 'weights' are deprecated since 0.13 and may be removed in the future. The current behavior is equivalent to passing `weights=ResNet18_Weights.IMAGENET1K_V1`. You can also use `weights=ResNet18_Weights.DEFAULT` to get the most up-to-date weights.\n",
      "  warnings.warn(msg)\n",
      "Downloading: \"https://download.pytorch.org/models/resnet18-f37072fd.pth\" to /root/.cache/torch/hub/checkpoints/resnet18-f37072fd.pth\n",
      "100%|██████████| 44.7M/44.7M [00:00<00:00, 154MB/s]\n"
     ]
    },
    {
     "data": {
      "text/html": [
       "\n",
       "<style>\n",
       "    /* Turns off some styling */\n",
       "    progress {\n",
       "        /* gets rid of default border in Firefox and Opera. */\n",
       "        border: none;\n",
       "        /* Needs to be in here for Safari polyfill so background images work as expected. */\n",
       "        background-size: auto;\n",
       "    }\n",
       "    progress:not([value]), progress:not([value])::-webkit-progress-bar {\n",
       "        background: repeating-linear-gradient(45deg, #7e7e7e, #7e7e7e 10px, #5c5c5c 10px, #5c5c5c 20px);\n",
       "    }\n",
       "    .progress-bar-interrupted, .progress-bar-interrupted::-webkit-progress-bar {\n",
       "        background: #F44336;\n",
       "    }\n",
       "</style>\n"
      ],
      "text/plain": [
       "<IPython.core.display.HTML object>"
      ]
     },
     "metadata": {},
     "output_type": "display_data"
    },
    {
     "data": {
      "text/html": [
       "Epoch 0 | Train Loss: 0.105 | Valid Loss: 0.070 | Train Acc: 0.97 | Valid Acc: 0.99 | <p>Epoch 1 | Train Loss: 0.065 | Valid Loss: 0.063 | Train Acc: 0.99 | Valid Acc: 0.99 | <p>Epoch 2 | Train Loss: 0.059 | Valid Loss: 0.057 | Train Acc: 0.99 | Valid Acc: 0.99 | <p>Epoch 3 | Train Loss: 0.055 | Valid Loss: 0.056 | Train Acc: 0.99 | Valid Acc: 0.99 | <p>Epoch 4 | Train Loss: 0.052 | Valid Loss: 0.054 | Train Acc: 0.99 | Valid Acc: 0.99 | <p>Epoch 5 | Train Loss: 0.049 | Valid Loss: 0.053 | Train Acc: 0.99 | Valid Acc: 0.99 | <p>Epoch 6 | Train Loss: 0.046 | Valid Loss: 0.052 | Train Acc: 0.99 | Valid Acc: 0.99 | <p>Epoch 7 | Train Loss: 0.043 | Valid Loss: 0.050 | Train Acc: 0.99 | Valid Acc: 0.99 | <p>Epoch 8 | Train Loss: 0.041 | Valid Loss: 0.050 | Train Acc: 0.99 | Valid Acc: 0.99 | <p>Epoch 9 | Train Loss: 0.040 | Valid Loss: 0.050 | Train Acc: 0.99 | Valid Acc: 0.99 | "
      ],
      "text/plain": [
       "<IPython.core.display.HTML object>"
      ]
     },
     "metadata": {},
     "output_type": "display_data"
    }
   ],
   "source": [
    "# load input data\n",
    "path = Path('/kaggle/input/data-preprocessing/data/')\n",
    "train_df = pd.read_csv('/kaggle/input/freesound-audio-tagging-2019/train_curated.csv')\n",
    "train_df = transform_labels(train_df)\n",
    "\n",
    "# load preprocessed audios and corresponding labels\n",
    "processed_train = pickle.load(\n",
    "    open(path / \"mels_train.pkl\", \"rb\")\n",
    ")  # (4970, 128, var, 3)\n",
    "y_train = train_df.iloc[:, 1:]\n",
    "\n",
    "# create custom dataset and dataloader\n",
    "ds = FreeShoundTrainDataset(processed_train, y_train, trainsforms_dict[\"train\"])\n",
    "if debug:\n",
    "    ds = Subset(ds, range(100))\n",
    "train_size = int(len(ds) * 0.8)\n",
    "valid_size = len(ds) - train_size\n",
    "train_ds, valid_ds = random_split(ds, [train_size, valid_size])\n",
    "train_dl = DataLoader(train_ds, batch_size=batch_size, shuffle=True)\n",
    "valid_dl = DataLoader(valid_ds, batch_size=batch_size, shuffle=False)\n",
    "\n",
    "# load model\n",
    "# model = Model(num_classes=len(le.classes_), pretrained=True)\n",
    "model = Model(num_classes=80, pretrained=True)\n",
    "model.to(device)\n",
    "\n",
    "loss_fn = nn.BCEWithLogitsLoss()\n",
    "optimizer = optim.Adam(params=model.parameters(), lr=lr, amsgrad=False)\n",
    "scheduler = optim.lr_scheduler.CosineAnnealingLR(\n",
    "    optimizer, T_max=tmax, eta_min=eta_min\n",
    ")\n",
    "\n",
    "settings = {\n",
    "    \"model\": model,\n",
    "    \"train_dl\": train_dl,\n",
    "    \"valid_dl\": valid_dl,\n",
    "    \"loss_fn\": loss_fn,\n",
    "    \"num_epochs\": num_epochs,\n",
    "    \"optimizer\": optimizer,\n",
    "    \"scheduler\": scheduler,\n",
    "    \"device\": device,\n",
    "}\n",
    "train_model(**settings)\n",
    "\n",
    "torch.save(model.state_dict(), \"model.pt\")"
   ]
  },
  {
   "cell_type": "code",
   "execution_count": 8,
   "id": "deef6b10",
   "metadata": {
    "execution": {
     "iopub.execute_input": "2025-01-09T06:52:02.938639Z",
     "iopub.status.busy": "2025-01-09T06:52:02.938332Z",
     "iopub.status.idle": "2025-01-09T06:52:02.942161Z",
     "shell.execute_reply": "2025-01-09T06:52:02.941612Z"
    },
    "papermill": {
     "duration": 0.009681,
     "end_time": "2025-01-09T06:52:02.943552",
     "exception": false,
     "start_time": "2025-01-09T06:52:02.933871",
     "status": "completed"
    },
    "tags": []
   },
   "outputs": [],
   "source": [
    "import torch\n",
    "import gc\n",
    "\n",
    "def clear_all_gpu_memory():\n",
    "    \"\"\"\n",
    "    Clears all global variables and frees GPU memory.\n",
    "    \"\"\"\n",
    "    # Delete all global variables except built-ins\n",
    "    for name in dir():\n",
    "        if not name.startswith('_'):\n",
    "            del globals()[name]\n",
    "    \n",
    "    # Collect garbage\n",
    "    gc.collect()\n",
    "    \n",
    "    # Empty CUDA cache if using PyTorch\n",
    "    if torch.cuda.is_available():\n",
    "        torch.cuda.empty_cache()\n",
    "    \n",
    "    print(\"All GPU memory cleared.\")"
   ]
  },
  {
   "cell_type": "code",
   "execution_count": 9,
   "id": "ab8fef4a",
   "metadata": {
    "execution": {
     "iopub.execute_input": "2025-01-09T06:52:02.951308Z",
     "iopub.status.busy": "2025-01-09T06:52:02.951068Z",
     "iopub.status.idle": "2025-01-09T06:52:03.098521Z",
     "shell.execute_reply": "2025-01-09T06:52:03.097436Z"
    },
    "papermill": {
     "duration": 0.152735,
     "end_time": "2025-01-09T06:52:03.099917",
     "exception": false,
     "start_time": "2025-01-09T06:52:02.947182",
     "status": "completed"
    },
    "tags": []
   },
   "outputs": [
    {
     "name": "stdout",
     "output_type": "stream",
     "text": [
      "All GPU memory cleared.\n"
     ]
    }
   ],
   "source": [
    "clear_all_gpu_memory()"
   ]
  },
  {
   "cell_type": "code",
   "execution_count": null,
   "id": "70ebf9ef",
   "metadata": {
    "papermill": {
     "duration": 0.00372,
     "end_time": "2025-01-09T06:52:03.107753",
     "exception": false,
     "start_time": "2025-01-09T06:52:03.104033",
     "status": "completed"
    },
    "tags": []
   },
   "outputs": [],
   "source": []
  }
 ],
 "metadata": {
  "kaggle": {
   "accelerator": "nvidiaTeslaT4",
   "dataSources": [
    {
     "databundleVersionId": 503808,
     "sourceId": 10700,
     "sourceType": "competition"
    },
    {
     "sourceId": 216751429,
     "sourceType": "kernelVersion"
    }
   ],
   "dockerImageVersionId": 30823,
   "isGpuEnabled": true,
   "isInternetEnabled": true,
   "language": "python",
   "sourceType": "notebook"
  },
  "kernelspec": {
   "display_name": "Python 3",
   "language": "python",
   "name": "python3"
  },
  "language_info": {
   "codemirror_mode": {
    "name": "ipython",
    "version": 3
   },
   "file_extension": ".py",
   "mimetype": "text/x-python",
   "name": "python",
   "nbconvert_exporter": "python",
   "pygments_lexer": "ipython3",
   "version": "3.10.12"
  },
  "papermill": {
   "default_parameters": {},
   "duration": 120.443004,
   "end_time": "2025-01-09T06:52:05.609671",
   "environment_variables": {},
   "exception": null,
   "input_path": "__notebook__.ipynb",
   "output_path": "__notebook__.ipynb",
   "parameters": {},
   "start_time": "2025-01-09T06:50:05.166667",
   "version": "2.6.0"
  }
 },
 "nbformat": 4,
 "nbformat_minor": 5
}
